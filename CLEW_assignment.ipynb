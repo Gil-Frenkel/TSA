{
 "cells": [
  {
   "cell_type": "markdown",
   "id": "29033d42",
   "metadata": {},
   "source": [
    "# Import main libraries"
   ]
  },
  {
   "cell_type": "code",
   "execution_count": 1,
   "id": "dd3abc84",
   "metadata": {},
   "outputs": [],
   "source": [
    "import numpy as np\n",
    "import pandas as pd\n",
    "from sklearn.model_selection import train_test_split\n",
    "from sklearn.preprocessing import MinMaxScaler\n",
    "from sklearn.metrics import classification_report\n",
    "from imblearn.over_sampling import SMOTE\n",
    "import tensorflow as tf\n",
    "from keras.models import Sequential\n",
    "from keras.layers import Dense\n",
    "from keras.layers import Dropout\n",
    "from keras.layers import LSTM\n",
    "from keras.layers.embeddings import Embedding\n",
    "from keras.preprocessing import sequence\n",
    "import seaborn as sns\n",
    "import matplotlib.pyplot as plt\n",
    "\n",
    "# fix random seed for reproducibility\n",
    "np.random.seed(7)"
   ]
  },
  {
   "cell_type": "markdown",
   "id": "d53861db",
   "metadata": {},
   "source": [
    "# Load dataset"
   ]
  },
  {
   "cell_type": "code",
   "execution_count": 2,
   "id": "cc052de6",
   "metadata": {
    "scrolled": true
   },
   "outputs": [
    {
     "data": {
      "text/html": [
       "<div>\n",
       "<style scoped>\n",
       "    .dataframe tbody tr th:only-of-type {\n",
       "        vertical-align: middle;\n",
       "    }\n",
       "\n",
       "    .dataframe tbody tr th {\n",
       "        vertical-align: top;\n",
       "    }\n",
       "\n",
       "    .dataframe thead th {\n",
       "        text-align: right;\n",
       "    }\n",
       "</style>\n",
       "<table border=\"1\" class=\"dataframe\">\n",
       "  <thead>\n",
       "    <tr style=\"text-align: right;\">\n",
       "      <th></th>\n",
       "      <th>temporary_index_column</th>\n",
       "      <th>patient_id</th>\n",
       "      <th>measurement_x</th>\n",
       "      <th>measurement_y</th>\n",
       "      <th>measurement_z</th>\n",
       "      <th>label</th>\n",
       "    </tr>\n",
       "  </thead>\n",
       "  <tbody>\n",
       "    <tr>\n",
       "      <th>0</th>\n",
       "      <td>1</td>\n",
       "      <td>0</td>\n",
       "      <td>NaN</td>\n",
       "      <td>0.015569</td>\n",
       "      <td>0.068855</td>\n",
       "      <td>1</td>\n",
       "    </tr>\n",
       "    <tr>\n",
       "      <th>1</th>\n",
       "      <td>2</td>\n",
       "      <td>0</td>\n",
       "      <td>NaN</td>\n",
       "      <td>0.007757</td>\n",
       "      <td>0.073745</td>\n",
       "      <td>1</td>\n",
       "    </tr>\n",
       "    <tr>\n",
       "      <th>2</th>\n",
       "      <td>3</td>\n",
       "      <td>0</td>\n",
       "      <td>NaN</td>\n",
       "      <td>-0.000084</td>\n",
       "      <td>0.073402</td>\n",
       "      <td>1</td>\n",
       "    </tr>\n",
       "    <tr>\n",
       "      <th>3</th>\n",
       "      <td>4</td>\n",
       "      <td>0</td>\n",
       "      <td>NaN</td>\n",
       "      <td>-0.007953</td>\n",
       "      <td>0.075000</td>\n",
       "      <td>1</td>\n",
       "    </tr>\n",
       "    <tr>\n",
       "      <th>4</th>\n",
       "      <td>5</td>\n",
       "      <td>0</td>\n",
       "      <td>NaN</td>\n",
       "      <td>-0.015851</td>\n",
       "      <td>0.076689</td>\n",
       "      <td>1</td>\n",
       "    </tr>\n",
       "    <tr>\n",
       "      <th>5</th>\n",
       "      <td>6</td>\n",
       "      <td>0</td>\n",
       "      <td>0.798000</td>\n",
       "      <td>-0.023776</td>\n",
       "      <td>0.080064</td>\n",
       "      <td>1</td>\n",
       "    </tr>\n",
       "    <tr>\n",
       "      <th>6</th>\n",
       "      <td>7</td>\n",
       "      <td>0</td>\n",
       "      <td>0.795484</td>\n",
       "      <td>-0.031727</td>\n",
       "      <td>0.077065</td>\n",
       "      <td>1</td>\n",
       "    </tr>\n",
       "    <tr>\n",
       "      <th>7</th>\n",
       "      <td>8</td>\n",
       "      <td>0</td>\n",
       "      <td>0.793049</td>\n",
       "      <td>-0.039704</td>\n",
       "      <td>0.077875</td>\n",
       "      <td>1</td>\n",
       "    </tr>\n",
       "    <tr>\n",
       "      <th>8</th>\n",
       "      <td>9</td>\n",
       "      <td>0</td>\n",
       "      <td>0.790697</td>\n",
       "      <td>-0.047705</td>\n",
       "      <td>0.076800</td>\n",
       "      <td>1</td>\n",
       "    </tr>\n",
       "    <tr>\n",
       "      <th>9</th>\n",
       "      <td>10</td>\n",
       "      <td>0</td>\n",
       "      <td>0.788426</td>\n",
       "      <td>-0.055730</td>\n",
       "      <td>0.079076</td>\n",
       "      <td>1</td>\n",
       "    </tr>\n",
       "  </tbody>\n",
       "</table>\n",
       "</div>"
      ],
      "text/plain": [
       "   temporary_index_column  patient_id  measurement_x  measurement_y  \\\n",
       "0                       1           0            NaN       0.015569   \n",
       "1                       2           0            NaN       0.007757   \n",
       "2                       3           0            NaN      -0.000084   \n",
       "3                       4           0            NaN      -0.007953   \n",
       "4                       5           0            NaN      -0.015851   \n",
       "5                       6           0       0.798000      -0.023776   \n",
       "6                       7           0       0.795484      -0.031727   \n",
       "7                       8           0       0.793049      -0.039704   \n",
       "8                       9           0       0.790697      -0.047705   \n",
       "9                      10           0       0.788426      -0.055730   \n",
       "\n",
       "   measurement_z  label  \n",
       "0       0.068855      1  \n",
       "1       0.073745      1  \n",
       "2       0.073402      1  \n",
       "3       0.075000      1  \n",
       "4       0.076689      1  \n",
       "5       0.080064      1  \n",
       "6       0.077065      1  \n",
       "7       0.077875      1  \n",
       "8       0.076800      1  \n",
       "9       0.079076      1  "
      ]
     },
     "execution_count": 2,
     "metadata": {},
     "output_type": "execute_result"
    }
   ],
   "source": [
    "df = pd.read_csv(\"~/clew/train_set.csv\").drop(columns=['timestamp'])\n",
    "df.head(10)"
   ]
  },
  {
   "cell_type": "markdown",
   "id": "728499b4",
   "metadata": {},
   "source": [
    "# Define max sequence length"
   ]
  },
  {
   "cell_type": "code",
   "execution_count": 3,
   "id": "c8cdfb7e",
   "metadata": {},
   "outputs": [
    {
     "name": "stdout",
     "output_type": "stream",
     "text": [
      "Found 97 different sequence sizes in training set\n"
     ]
    },
    {
     "data": {
      "image/png": "[encoded data removed]",
      "text/plain": [
       "<Figure size 432x288 with 1 Axes>"
      ]
     },
     "metadata": {
      "needs_background": "light"
     },
     "output_type": "display_data"
    }
   ],
   "source": [
    "seq_sizes = df.groupby('patient_id').count().label\n",
    "print(f'Found {len(seq_sizes.unique())} different sequence sizes in training set')\n",
    "\n",
    "fit, ax = plt.subplots(1,1)\n",
    "sns.histplot(seq_sizes, ax=ax)\n",
    "ax.set_title(\"Sequence size ditribution\")\n",
    "ax.set_xlabel('sequence size')\n",
    "plt.show()"
   ]
  },
  {
   "cell_type": "code",
   "execution_count": 4,
   "id": "35ab1c4d",
   "metadata": {},
   "outputs": [],
   "source": [
    "max_seq_size = 60"
   ]
  },
  {
   "cell_type": "markdown",
   "id": "d7805095",
   "metadata": {},
   "source": [
    "# Rescaling the measurements to 0,1 using min-max scaler"
   ]
  },
  {
   "cell_type": "code",
   "execution_count": 6,
   "id": "7d713f74",
   "metadata": {},
   "outputs": [],
   "source": [
    "scaler = MinMaxScaler()\n",
    "measurements_label = ['measurement_x','measurement_y','measurement_z']\n",
    "df[measurements_label] = scaler.fit_transform(df[measurements_label])"
   ]
  },
  {
   "cell_type": "markdown",
   "id": "60691732",
   "metadata": {},
   "source": [
    "# Handling missing values"
   ]
  },
  {
   "cell_type": "code",
   "execution_count": 7,
   "id": "05e1946d",
   "metadata": {},
   "outputs": [
    {
     "data": {
      "text/html": [
       "<div>\n",
       "<style scoped>\n",
       "    .dataframe tbody tr th:only-of-type {\n",
       "        vertical-align: middle;\n",
       "    }\n",
       "\n",
       "    .dataframe tbody tr th {\n",
       "        vertical-align: top;\n",
       "    }\n",
       "\n",
       "    .dataframe thead th {\n",
       "        text-align: right;\n",
       "    }\n",
       "</style>\n",
       "<table border=\"1\" class=\"dataframe\">\n",
       "  <thead>\n",
       "    <tr style=\"text-align: right;\">\n",
       "      <th></th>\n",
       "      <th>temporary_index_column</th>\n",
       "      <th>patient_id</th>\n",
       "      <th>measurement_x</th>\n",
       "      <th>measurement_y</th>\n",
       "      <th>measurement_z</th>\n",
       "      <th>label</th>\n",
       "    </tr>\n",
       "  </thead>\n",
       "  <tbody>\n",
       "    <tr>\n",
       "      <th>0</th>\n",
       "      <td>1</td>\n",
       "      <td>0</td>\n",
       "      <td>-1.000000</td>\n",
       "      <td>0.415782</td>\n",
       "      <td>0.151501</td>\n",
       "      <td>1</td>\n",
       "    </tr>\n",
       "    <tr>\n",
       "      <th>1</th>\n",
       "      <td>2</td>\n",
       "      <td>0</td>\n",
       "      <td>-1.000000</td>\n",
       "      <td>0.412720</td>\n",
       "      <td>0.161620</td>\n",
       "      <td>1</td>\n",
       "    </tr>\n",
       "    <tr>\n",
       "      <th>2</th>\n",
       "      <td>3</td>\n",
       "      <td>0</td>\n",
       "      <td>-1.000000</td>\n",
       "      <td>0.409647</td>\n",
       "      <td>0.160912</td>\n",
       "      <td>1</td>\n",
       "    </tr>\n",
       "    <tr>\n",
       "      <th>3</th>\n",
       "      <td>4</td>\n",
       "      <td>0</td>\n",
       "      <td>-1.000000</td>\n",
       "      <td>0.406562</td>\n",
       "      <td>0.164218</td>\n",
       "      <td>1</td>\n",
       "    </tr>\n",
       "    <tr>\n",
       "      <th>4</th>\n",
       "      <td>5</td>\n",
       "      <td>0</td>\n",
       "      <td>-1.000000</td>\n",
       "      <td>0.403466</td>\n",
       "      <td>0.167713</td>\n",
       "      <td>1</td>\n",
       "    </tr>\n",
       "    <tr>\n",
       "      <th>5</th>\n",
       "      <td>6</td>\n",
       "      <td>0</td>\n",
       "      <td>0.561678</td>\n",
       "      <td>0.400360</td>\n",
       "      <td>0.174698</td>\n",
       "      <td>1</td>\n",
       "    </tr>\n",
       "    <tr>\n",
       "      <th>6</th>\n",
       "      <td>7</td>\n",
       "      <td>0</td>\n",
       "      <td>0.560682</td>\n",
       "      <td>0.397244</td>\n",
       "      <td>0.168492</td>\n",
       "      <td>1</td>\n",
       "    </tr>\n",
       "    <tr>\n",
       "      <th>7</th>\n",
       "      <td>8</td>\n",
       "      <td>0</td>\n",
       "      <td>0.559718</td>\n",
       "      <td>0.394117</td>\n",
       "      <td>0.170168</td>\n",
       "      <td>1</td>\n",
       "    </tr>\n",
       "    <tr>\n",
       "      <th>8</th>\n",
       "      <td>9</td>\n",
       "      <td>0</td>\n",
       "      <td>0.558787</td>\n",
       "      <td>0.390981</td>\n",
       "      <td>0.167943</td>\n",
       "      <td>1</td>\n",
       "    </tr>\n",
       "    <tr>\n",
       "      <th>9</th>\n",
       "      <td>10</td>\n",
       "      <td>0</td>\n",
       "      <td>0.557889</td>\n",
       "      <td>0.387835</td>\n",
       "      <td>0.172653</td>\n",
       "      <td>1</td>\n",
       "    </tr>\n",
       "  </tbody>\n",
       "</table>\n",
       "</div>"
      ],
      "text/plain": [
       "   temporary_index_column  patient_id  measurement_x  measurement_y  \\\n",
       "0                       1           0      -1.000000       0.415782   \n",
       "1                       2           0      -1.000000       0.412720   \n",
       "2                       3           0      -1.000000       0.409647   \n",
       "3                       4           0      -1.000000       0.406562   \n",
       "4                       5           0      -1.000000       0.403466   \n",
       "5                       6           0       0.561678       0.400360   \n",
       "6                       7           0       0.560682       0.397244   \n",
       "7                       8           0       0.559718       0.394117   \n",
       "8                       9           0       0.558787       0.390981   \n",
       "9                      10           0       0.557889       0.387835   \n",
       "\n",
       "   measurement_z  label  \n",
       "0       0.151501      1  \n",
       "1       0.161620      1  \n",
       "2       0.160912      1  \n",
       "3       0.164218      1  \n",
       "4       0.167713      1  \n",
       "5       0.174698      1  \n",
       "6       0.168492      1  \n",
       "7       0.170168      1  \n",
       "8       0.167943      1  \n",
       "9       0.172653      1  "
      ]
     },
     "execution_count": 7,
     "metadata": {},
     "output_type": "execute_result"
    }
   ],
   "source": [
    "# handle missing values by replacing them with the value -1\n",
    "df.fillna(-1, inplace=True)\n",
    "\n",
    "df.head(10)"
   ]
  },
  {
   "cell_type": "code",
   "execution_count": 8,
   "id": "bd6b7dd1",
   "metadata": {},
   "outputs": [
    {
     "data": {
      "image/png": "[encoded data removed]",
      "text/plain": [
       "<Figure size 432x288 with 1 Axes>"
      ]
     },
     "metadata": {
      "needs_background": "light"
     },
     "output_type": "display_data"
    }
   ],
   "source": [
    "rand_pat = df[df.patient_id == np.random.choice(df.loc[df.label == 0, 'patient_id'])]\n",
    "\n",
    "sns.lineplot(data=rand_pat.measurement_x)\n",
    "plt.title(f'measurement_x of patient {int(rand_pat.iloc[0].patient_id)}')\n",
    "plt.show()"
   ]
  },
  {
   "cell_type": "code",
   "execution_count": 9,
   "id": "599979d9",
   "metadata": {},
   "outputs": [
    {
     "data": {
      "image/png": "[encoded data removed]",
      "text/plain": [
       "<Figure size 432x288 with 1 Axes>"
      ]
     },
     "metadata": {
      "needs_background": "light"
     },
     "output_type": "display_data"
    }
   ],
   "source": [
    "sns.lineplot(data=rand_pat.measurement_y)\n",
    "plt.title(f'measurement_y of patient {rand_pat.iloc[0].patient_id}')\n",
    "plt.show()"
   ]
  },
  {
   "cell_type": "code",
   "execution_count": 10,
   "id": "c96fd7f7",
   "metadata": {
    "scrolled": true
   },
   "outputs": [
    {
     "data": {
      "image/png": "[encoded data removed]",
      "text/plain": [
       "<Figure size 432x288 with 1 Axes>"
      ]
     },
     "metadata": {
      "needs_background": "light"
     },
     "output_type": "display_data"
    }
   ],
   "source": [
    "sns.lineplot(data=rand_pat.measurement_z)\n",
    "plt.title(f'measurement_z of patient {rand_pat.iloc[0].patient_id}')\n",
    "plt.show()"
   ]
  },
  {
   "cell_type": "code",
   "execution_count": 11,
   "id": "4459c12b",
   "metadata": {},
   "outputs": [
    {
     "data": {
      "image/png": "[encoded data removed]",
      "text/plain": [
       "<Figure size 432x288 with 1 Axes>"
      ]
     },
     "metadata": {
      "needs_background": "light"
     },
     "output_type": "display_data"
    }
   ],
   "source": [
    "rand_pat = df[df.patient_id == np.random.choice(df.loc[df.label == 1, 'patient_id'])]\n",
    "\n",
    "sns.lineplot(data=rand_pat.measurement_x)\n",
    "plt.title(f'measurement_x of patient {int(rand_pat.iloc[0].patient_id)}')\n",
    "plt.show()"
   ]
  },
  {
   "cell_type": "code",
   "execution_count": 12,
   "id": "bfdb2600",
   "metadata": {},
   "outputs": [
    {
     "data": {
      "image/png": "[encoded data removed]",
      "text/plain": [
       "<Figure size 432x288 with 1 Axes>"
      ]
     },
     "metadata": {
      "needs_background": "light"
     },
     "output_type": "display_data"
    }
   ],
   "source": [
    "sns.lineplot(data=rand_pat.measurement_y)\n",
    "plt.title(f'measurement_y of patient {rand_pat.iloc[0].patient_id}')\n",
    "plt.show()"
   ]
  },
  {
   "cell_type": "code",
   "execution_count": 13,
   "id": "0c4a003b",
   "metadata": {},
   "outputs": [
    {
     "data": {
      "image/png": "[encoded data removed]",
      "text/plain": [
       "<Figure size 432x288 with 1 Axes>"
      ]
     },
     "metadata": {
      "needs_background": "light"
     },
     "output_type": "display_data"
    }
   ],
   "source": [
    "sns.lineplot(data=rand_pat.measurement_z)\n",
    "plt.title(f'measurement_z of patient {rand_pat.iloc[0].patient_id}')\n",
    "plt.show()"
   ]
  },
  {
   "cell_type": "code",
   "execution_count": 14,
   "id": "dba29132",
   "metadata": {},
   "outputs": [
    {
     "data": {
      "image/png": "[encoded data removed]",
      "text/plain": [
       "<Figure size 432x288 with 1 Axes>"
      ]
     },
     "metadata": {
      "needs_background": "light"
     },
     "output_type": "display_data"
    }
   ],
   "source": [
    "rand_pat = df[df.patient_id == np.random.choice(df.loc[df.label == 2, 'patient_id'])]\n",
    "\n",
    "sns.lineplot(data=rand_pat.measurement_x)\n",
    "plt.title(f'measurement_x of patient {int(rand_pat.iloc[0].patient_id)}')\n",
    "plt.show()"
   ]
  },
  {
   "cell_type": "code",
   "execution_count": 15,
   "id": "3e0158ad",
   "metadata": {},
   "outputs": [
    {
     "data": {
      "image/png": "[encoded data removed]",
      "text/plain": [
       "<Figure size 432x288 with 1 Axes>"
      ]
     },
     "metadata": {
      "needs_background": "light"
     },
     "output_type": "display_data"
    }
   ],
   "source": [
    "sns.lineplot(data=rand_pat.measurement_y)\n",
    "plt.title(f'measurement_y of patient {rand_pat.iloc[0].patient_id}')\n",
    "plt.show()"
   ]
  },
  {
   "cell_type": "code",
   "execution_count": 16,
   "id": "75abf0f7",
   "metadata": {},
   "outputs": [
    {
     "data": {
      "image/png": "[encoded data removed]",
      "text/plain": [
       "<Figure size 432x288 with 1 Axes>"
      ]
     },
     "metadata": {
      "needs_background": "light"
     },
     "output_type": "display_data"
    }
   ],
   "source": [
    "sns.lineplot(data=rand_pat.measurement_z)\n",
    "plt.title(f'measurement_y of patient {rand_pat.iloc[0].patient_id}')\n",
    "plt.show()"
   ]
  },
  {
   "cell_type": "markdown",
   "id": "2bfd3e7d",
   "metadata": {},
   "source": [
    "# Feature engineering and zero padding to each measurement"
   ]
  },
  {
   "cell_type": "code",
   "execution_count": 17,
   "id": "95d997d8",
   "metadata": {
    "scrolled": true
   },
   "outputs": [
    {
     "name": "stdout",
     "output_type": "stream",
     "text": [
      "Example of a single record in new processed data:\n",
      "[[ 0.          0.          0.        ]\n",
      " [ 0.          0.          0.        ]\n",
      " [ 0.          0.          0.        ]\n",
      " [ 0.          0.          0.        ]\n",
      " [ 0.          0.          0.        ]\n",
      " [ 0.          0.          0.        ]\n",
      " [ 0.          0.          0.        ]\n",
      " [ 0.          0.          0.        ]\n",
      " [ 0.          0.          0.        ]\n",
      " [ 0.          0.          0.        ]\n",
      " [ 0.          0.          0.        ]\n",
      " [ 0.          0.          0.        ]\n",
      " [ 0.          0.          0.        ]\n",
      " [ 0.          0.          0.        ]\n",
      " [ 0.          0.          0.        ]\n",
      " [ 0.          0.          0.        ]\n",
      " [ 0.          0.          0.        ]\n",
      " [ 0.          0.          0.        ]\n",
      " [ 0.          0.          0.        ]\n",
      " [ 0.          0.          0.        ]\n",
      " [ 0.          0.          0.        ]\n",
      " [ 0.          0.          0.        ]\n",
      " [ 0.          0.          0.        ]\n",
      " [ 0.          0.          0.        ]\n",
      " [ 0.          0.          0.        ]\n",
      " [ 0.          0.          0.        ]\n",
      " [ 0.          0.          0.        ]\n",
      " [ 0.          0.          0.        ]\n",
      " [ 0.          0.          0.        ]\n",
      " [ 0.          0.          0.        ]\n",
      " [-1.          0.41578166  0.15150074]\n",
      " [-1.          0.41271991  0.16162014]\n",
      " [-1.          0.40964655  0.16091186]\n",
      " [-1.          0.40656189  0.16421779]\n",
      " [-1.          0.40346628  0.16771331]\n",
      " [ 0.56167809  0.40036004  0.17469752]\n",
      " [ 0.56068203  0.3972435   0.16849195]\n",
      " [ 0.55971837  0.39411698  0.17016793]\n",
      " [ 0.55878721  0.39098083  0.16794289]\n",
      " [ 0.55788865  0.38783535  0.17265267]\n",
      " [ 0.55702278  0.3846809   0.16793156]\n",
      " [ 0.5561897   0.3815178   0.16706823]\n",
      " [ 0.5553895   0.37834639  0.16816357]\n",
      " [ 0.55462225  0.375167    0.15873504]\n",
      " [ 0.55388805  0.37197997  0.15672289]\n",
      " [ 0.55318696  0.36878564  0.15523757]\n",
      " [ 0.55251906  0.36558433  0.14842509]\n",
      " [ 0.55188443  0.3623764   0.14517633]\n",
      " [ 0.55128313  0.35916218  0.14103806]\n",
      " [ 0.55071521  0.35594201  0.13327385]\n",
      " [ 0.55018076  0.35271622  0.1215048 ]\n",
      " [ 0.54967981  0.34948517  0.12213055]\n",
      " [ 0.54921242  0.34624919  0.11194128]\n",
      " [ 0.54877864  0.34300862  0.10482727]\n",
      " [ 0.54837852  0.33976381  0.0933806 ]\n",
      " [ 0.5480121   0.3365151   0.09009618]\n",
      " [ 0.54767942  0.33326283  0.07694929]\n",
      " [ 0.54738051  0.33000734  0.06980791]\n",
      " [ 0.54711541  0.32674899  0.06404217]\n",
      " [ 0.54688414  0.3234881   0.04376375]]\n"
     ]
    }
   ],
   "source": [
    "lst = []\n",
    "for pat in df.patient_id.unique():\n",
    "    temp_df = df[df.patient_id == pat][measurements_label].copy()\n",
    "    temp_df = np.asarray(temp_df).reshape((1,) + temp_df.shape)\n",
    "    n = temp_df.shape[1]\n",
    "    if n < max_seq_size:\n",
    "        completion = np.zeros(shape=(1,max_seq_size-n,3))\n",
    "        temp_df = np.concatenate([completion, temp_df], axis=1)\n",
    "    else:\n",
    "        temp_df = temp_df[:,-max_seq_size:,:]\n",
    "    \n",
    "    lst.append(temp_df)\n",
    "    \n",
    "X = np.concatenate(lst, axis=0)\n",
    "\n",
    "print(\"Example of a single record in new processed data:\")\n",
    "print(X[0])"
   ]
  },
  {
   "cell_type": "markdown",
   "id": "1d13ac46",
   "metadata": {},
   "source": [
    "# Oversample the data with SMOTE"
   ]
  },
  {
   "cell_type": "code",
   "execution_count": 18,
   "id": "c8b893d8",
   "metadata": {},
   "outputs": [
    {
     "data": {
      "text/plain": [
       "0    17613\n",
       "1     6214\n",
       "2     1879\n",
       "Name: label, dtype: int64"
      ]
     },
     "execution_count": 18,
     "metadata": {},
     "output_type": "execute_result"
    }
   ],
   "source": [
    "label = df.drop_duplicates(subset='patient_id').label\n",
    "label.value_counts()"
   ]
  },
  {
   "cell_type": "code",
   "execution_count": 19,
   "id": "22436e8b",
   "metadata": {},
   "outputs": [],
   "source": [
    "X = X.reshape(25706, 180)\n",
    "sm = SMOTE(random_state=42)\n",
    "X_res, y_res = sm.fit_resample(X, label)\n",
    "X = X_res.reshape((len(X_res),max_seq_size,3))\n",
    "\n",
    "label = y_res"
   ]
  },
  {
   "cell_type": "markdown",
   "id": "2d81410a",
   "metadata": {},
   "source": [
    "# Train-Validation split"
   ]
  },
  {
   "cell_type": "code",
   "execution_count": 20,
   "id": "c7ace42e",
   "metadata": {},
   "outputs": [
    {
     "name": "stdout",
     "output_type": "stream",
     "text": [
      "train set size: (35402, 60, 3)\n",
      "test set size: (17437, 60, 3)\n"
     ]
    }
   ],
   "source": [
    "X_train, X_cv, y_train, y_cv = train_test_split(X, label, test_size=0.33, random_state=7)\n",
    "print('train set size:', X_train.shape)\n",
    "print('test set size:', X_cv.shape)"
   ]
  },
  {
   "cell_type": "markdown",
   "id": "4869da95",
   "metadata": {},
   "source": [
    "# Model Architecture - LSTM"
   ]
  },
  {
   "cell_type": "code",
   "execution_count": 94,
   "id": "6b145c92",
   "metadata": {},
   "outputs": [
    {
     "name": "stdout",
     "output_type": "stream",
     "text": [
      "Epoch 1/3\n",
      "554/554 [==============================] - 20s 33ms/step - loss: 0.0000e+00 - precision_6: 0.7693 - recall_6: 0.4986 - val_loss: 0.0000e+00 - val_precision_6: 0.8783 - val_recall_6: 0.3591\n",
      "Epoch 2/3\n",
      "554/554 [==============================] - 17s 31ms/step - loss: 0.0000e+00 - precision_6: 0.7004 - recall_6: 0.7966 - val_loss: 0.0000e+00 - val_precision_6: 0.9273 - val_recall_6: 0.3749\n",
      "Epoch 3/3\n",
      "554/554 [==============================] - 19s 34ms/step - loss: 0.0000e+00 - precision_6: 0.8763 - recall_6: 0.4870 - val_loss: 0.0000e+00 - val_precision_6: 0.9275 - val_recall_6: 0.5310\n",
      "\n",
      "\n",
      "Model: \"sequential_7\"\n",
      "_________________________________________________________________\n",
      "Layer (type)                 Output Shape              Param #   \n",
      "=================================================================\n",
      "lstm_7 (LSTM)                (None, 60)                15360     \n",
      "_________________________________________________________________\n",
      "dense_6 (Dense)              (None, 1)                 61        \n",
      "=================================================================\n",
      "Total params: 15,421\n",
      "Trainable params: 15,421\n",
      "Non-trainable params: 0\n",
      "_________________________________________________________________\n",
      "None\n"
     ]
    }
   ],
   "source": [
    "model = Sequential()\n",
    "model.add(LSTM(max_seq_size))\n",
    "# model.add(Dropout(0.2))\n",
    "model.add(Dense(1, activation='sigmoid'))\n",
    "model.compile(loss='categorical_crossentropy', optimizer='RMSprop', metrics=[tf.keras.metrics.Precision(), tf.keras.metrics.Recall()])\n",
    "\n",
    "model.fit(X_train, y_train, validation_data=(X_cv, y_cv), epochs=3, batch_size=64)\n",
    "print(\"\\n\")\n",
    "print(model.summary())"
   ]
  },
  {
   "cell_type": "markdown",
   "id": "8a5b414f",
   "metadata": {},
   "source": [
    "# Evaluation of the model"
   ]
  },
  {
   "cell_type": "markdown",
   "id": "51b1ecba",
   "metadata": {},
   "source": [
    "## Validation Metrics"
   ]
  },
  {
   "cell_type": "code",
   "execution_count": 95,
   "id": "e000507c",
   "metadata": {},
   "outputs": [
    {
     "name": "stdout",
     "output_type": "stream",
     "text": [
      "\n",
      "Validation metrics:\n",
      "{'loss': 0.0, 'precision': 0.9275274872779846, 'recall': 0.5309643149375916, 'f1_score': 0.6753332396112404}\n"
     ]
    }
   ],
   "source": [
    "loss, precision, recall = model.evaluate(X_cv, y_cv, verbose=0)\n",
    "y_pred = model.predict(X_cv).reshape(-1).astype('int64').tolist()\n",
    "y_true = y_cv.tolist()\n",
    "\n",
    "print(\"\\nValidation metrics:\")\n",
    "print({'loss': loss, 'precision': precision, 'recall': recall,\n",
    "       'f1_score': 2*(precision*recall)/(precision + recall)})"
   ]
  },
  {
   "cell_type": "markdown",
   "id": "49116317",
   "metadata": {},
   "source": [
    "## Classification matrix"
   ]
  },
  {
   "cell_type": "code",
   "execution_count": 96,
   "id": "9fec3af6",
   "metadata": {},
   "outputs": [
    {
     "name": "stdout",
     "output_type": "stream",
     "text": [
      "              precision    recall  f1-score   support\n",
      "\n",
      "           0       0.49      0.92      0.64      5843\n",
      "           1       0.25      0.29      0.27      5784\n",
      "           2       1.00      0.00      0.00      5810\n",
      "\n",
      "    accuracy                           0.40     17437\n",
      "   macro avg       0.58      0.40      0.30     17437\n",
      "weighted avg       0.58      0.40      0.30     17437\n",
      "\n"
     ]
    }
   ],
   "source": [
    "print(classification_report(y_true=y_true, y_pred=y_pred, zero_division=True))"
   ]
  },
  {
   "cell_type": "code",
   "execution_count": 65,
   "id": "86214856",
   "metadata": {},
   "outputs": [],
   "source": [
    "test = pd.read_csv(\"~/clew/test_set.csv\").drop(columns=['temporary_index_column','timestamp'])\n",
    "test[measurements_label] = scaler.fit_transform(test[measurements_label])\n",
    "test.fillna(-1, inplace=True)\n",
    "\n",
    "lst = []\n",
    "for pat in test.patient_id.unique():\n",
    "    temp_df = test[test.patient_id == pat][measurements_label].copy()\n",
    "    temp_df = np.asarray(temp_df).reshape((1,) + temp_df.shape)\n",
    "    n = temp_df.shape[1]\n",
    "    if n < max_seq_size:\n",
    "        completion = np.zeros(shape=(1,max_seq_size-n,3))\n",
    "        temp_df = np.concatenate([completion, temp_df], axis=1)\n",
    "    else:\n",
    "        temp_df = temp_df[:,-max_seq_size:,:]\n",
    "    \n",
    "    lst.append(temp_df)\n",
    "    \n",
    "X_test = np.concatenate(lst, axis=0)"
   ]
  },
  {
   "cell_type": "code",
   "execution_count": 97,
   "id": "a22aa23c",
   "metadata": {},
   "outputs": [
    {
     "data": {
      "text/html": [
       "<div>\n",
       "<style scoped>\n",
       "    .dataframe tbody tr th:only-of-type {\n",
       "        vertical-align: middle;\n",
       "    }\n",
       "\n",
       "    .dataframe tbody tr th {\n",
       "        vertical-align: top;\n",
       "    }\n",
       "\n",
       "    .dataframe thead th {\n",
       "        text-align: right;\n",
       "    }\n",
       "</style>\n",
       "<table border=\"1\" class=\"dataframe\">\n",
       "  <thead>\n",
       "    <tr style=\"text-align: right;\">\n",
       "      <th></th>\n",
       "      <th>label</th>\n",
       "      <th>patient_id</th>\n",
       "    </tr>\n",
       "  </thead>\n",
       "  <tbody>\n",
       "    <tr>\n",
       "      <th>0</th>\n",
       "      <td>0</td>\n",
       "      <td>25705</td>\n",
       "    </tr>\n",
       "    <tr>\n",
       "      <th>1</th>\n",
       "      <td>0</td>\n",
       "      <td>25706</td>\n",
       "    </tr>\n",
       "    <tr>\n",
       "      <th>2</th>\n",
       "      <td>0</td>\n",
       "      <td>25707</td>\n",
       "    </tr>\n",
       "    <tr>\n",
       "      <th>3</th>\n",
       "      <td>0</td>\n",
       "      <td>25708</td>\n",
       "    </tr>\n",
       "    <tr>\n",
       "      <th>4</th>\n",
       "      <td>0</td>\n",
       "      <td>25709</td>\n",
       "    </tr>\n",
       "    <tr>\n",
       "      <th>5</th>\n",
       "      <td>0</td>\n",
       "      <td>25710</td>\n",
       "    </tr>\n",
       "    <tr>\n",
       "      <th>6</th>\n",
       "      <td>0</td>\n",
       "      <td>25711</td>\n",
       "    </tr>\n",
       "    <tr>\n",
       "      <th>7</th>\n",
       "      <td>0</td>\n",
       "      <td>25712</td>\n",
       "    </tr>\n",
       "    <tr>\n",
       "      <th>8</th>\n",
       "      <td>0</td>\n",
       "      <td>25713</td>\n",
       "    </tr>\n",
       "    <tr>\n",
       "      <th>9</th>\n",
       "      <td>0</td>\n",
       "      <td>25714</td>\n",
       "    </tr>\n",
       "  </tbody>\n",
       "</table>\n",
       "</div>"
      ],
      "text/plain": [
       "   label  patient_id\n",
       "0      0       25705\n",
       "1      0       25706\n",
       "2      0       25707\n",
       "3      0       25708\n",
       "4      0       25709\n",
       "5      0       25710\n",
       "6      0       25711\n",
       "7      0       25712\n",
       "8      0       25713\n",
       "9      0       25714"
      ]
     },
     "metadata": {},
     "output_type": "display_data"
    }
   ],
   "source": [
    "y_pred = model.predict(X_test).reshape(-1).astype('int64')\n",
    "patients = test.patient_id.drop_duplicates()\n",
    "res = pd.DataFrame([y_pred, patients], index=[\"label\",\"patient_id\"]).T\n",
    "res.to_csv('~/clew/submission.csv', index=False)\n",
    "display(res.head(10))"
   ]
  }
 ],
 "metadata": {
  "kernelspec": {
   "display_name": "Python 3",
   "language": "python",
   "name": "python3"
  },
  "language_info": {
   "codemirror_mode": {
    "name": "ipython",
    "version": 3
   },
   "file_extension": ".py",
   "mimetype": "text/x-python",
   "name": "python",
   "nbconvert_exporter": "python",
   "pygments_lexer": "ipython3",
   "version": "3.8.5"
  }
 },
 "nbformat": 4,
 "nbformat_minor": 5
}
