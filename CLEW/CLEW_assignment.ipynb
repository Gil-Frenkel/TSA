{
 "cells": [
  {
   "cell_type": "markdown",
   "id": "29033d42",
   "metadata": {},
   "source": [
    "# Import main libraries"
   ]
  },
  {
   "cell_type": "code",
   "execution_count": 509,
   "id": "dd3abc84",
   "metadata": {},
   "outputs": [],
   "source": [
    "import json\n",
    "import numpy as np\n",
    "import pandas as pd\n",
    "import joblib\n",
    "from sklearn.model_selection import train_test_split\n",
    "from sklearn.preprocessing import MinMaxScaler\n",
    "from sklearn.metrics import classification_report\n",
    "from imblearn.over_sampling import SMOTE\n",
    "import tensorflow as tf\n",
    "from tensorflow import keras\n",
    "from keras.models import Sequential\n",
    "from keras.layers import Dense\n",
    "from keras.layers import Dropout\n",
    "from keras.layers import LSTM\n",
    "from keras.layers.embeddings import Embedding\n",
    "from keras.preprocessing import sequence\n",
    "from keras.models import model_from_json, load_model\n",
    "import seaborn as sns\n",
    "import matplotlib.pyplot as plt\n",
    "\n",
    "# fix random seed for reproducibility\n",
    "np.random.seed(7)"
   ]
  },
  {
   "cell_type": "markdown",
   "id": "d53861db",
   "metadata": {},
   "source": [
    "# Load dataset"
   ]
  },
  {
   "cell_type": "code",
   "execution_count": 678,
   "id": "cc052de6",
   "metadata": {
    "scrolled": false
   },
   "outputs": [
    {
     "data": {
      "text/html": [
       "<div>\n",
       "<style scoped>\n",
       "    .dataframe tbody tr th:only-of-type {\n",
       "        vertical-align: middle;\n",
       "    }\n",
       "\n",
       "    .dataframe tbody tr th {\n",
       "        vertical-align: top;\n",
       "    }\n",
       "\n",
       "    .dataframe thead th {\n",
       "        text-align: right;\n",
       "    }\n",
       "</style>\n",
       "<table border=\"1\" class=\"dataframe\">\n",
       "  <thead>\n",
       "    <tr style=\"text-align: right;\">\n",
       "      <th></th>\n",
       "      <th>temporary_index_column</th>\n",
       "      <th>patient_id</th>\n",
       "      <th>timestamp</th>\n",
       "      <th>measurement_x</th>\n",
       "      <th>measurement_y</th>\n",
       "      <th>measurement_z</th>\n",
       "      <th>label</th>\n",
       "    </tr>\n",
       "  </thead>\n",
       "  <tbody>\n",
       "    <tr>\n",
       "      <th>0</th>\n",
       "      <td>1</td>\n",
       "      <td>0</td>\n",
       "      <td>50:34.1</td>\n",
       "      <td>NaN</td>\n",
       "      <td>0.015569</td>\n",
       "      <td>0.068855</td>\n",
       "      <td>1</td>\n",
       "    </tr>\n",
       "    <tr>\n",
       "      <th>1</th>\n",
       "      <td>2</td>\n",
       "      <td>0</td>\n",
       "      <td>50:34.1</td>\n",
       "      <td>NaN</td>\n",
       "      <td>0.007757</td>\n",
       "      <td>0.073745</td>\n",
       "      <td>1</td>\n",
       "    </tr>\n",
       "    <tr>\n",
       "      <th>2</th>\n",
       "      <td>3</td>\n",
       "      <td>0</td>\n",
       "      <td>50:34.2</td>\n",
       "      <td>NaN</td>\n",
       "      <td>-0.000084</td>\n",
       "      <td>0.073402</td>\n",
       "      <td>1</td>\n",
       "    </tr>\n",
       "    <tr>\n",
       "      <th>3</th>\n",
       "      <td>4</td>\n",
       "      <td>0</td>\n",
       "      <td>50:34.2</td>\n",
       "      <td>NaN</td>\n",
       "      <td>-0.007953</td>\n",
       "      <td>0.075000</td>\n",
       "      <td>1</td>\n",
       "    </tr>\n",
       "    <tr>\n",
       "      <th>4</th>\n",
       "      <td>5</td>\n",
       "      <td>0</td>\n",
       "      <td>50:34.3</td>\n",
       "      <td>NaN</td>\n",
       "      <td>-0.015851</td>\n",
       "      <td>0.076689</td>\n",
       "      <td>1</td>\n",
       "    </tr>\n",
       "    <tr>\n",
       "      <th>5</th>\n",
       "      <td>6</td>\n",
       "      <td>0</td>\n",
       "      <td>50:34.3</td>\n",
       "      <td>0.798000</td>\n",
       "      <td>-0.023776</td>\n",
       "      <td>0.080064</td>\n",
       "      <td>1</td>\n",
       "    </tr>\n",
       "    <tr>\n",
       "      <th>6</th>\n",
       "      <td>7</td>\n",
       "      <td>0</td>\n",
       "      <td>50:34.4</td>\n",
       "      <td>0.795484</td>\n",
       "      <td>-0.031727</td>\n",
       "      <td>0.077065</td>\n",
       "      <td>1</td>\n",
       "    </tr>\n",
       "    <tr>\n",
       "      <th>7</th>\n",
       "      <td>8</td>\n",
       "      <td>0</td>\n",
       "      <td>50:34.4</td>\n",
       "      <td>0.793049</td>\n",
       "      <td>-0.039704</td>\n",
       "      <td>0.077875</td>\n",
       "      <td>1</td>\n",
       "    </tr>\n",
       "    <tr>\n",
       "      <th>8</th>\n",
       "      <td>9</td>\n",
       "      <td>0</td>\n",
       "      <td>50:34.5</td>\n",
       "      <td>0.790697</td>\n",
       "      <td>-0.047705</td>\n",
       "      <td>0.076800</td>\n",
       "      <td>1</td>\n",
       "    </tr>\n",
       "    <tr>\n",
       "      <th>9</th>\n",
       "      <td>10</td>\n",
       "      <td>0</td>\n",
       "      <td>50:34.5</td>\n",
       "      <td>0.788426</td>\n",
       "      <td>-0.055730</td>\n",
       "      <td>0.079076</td>\n",
       "      <td>1</td>\n",
       "    </tr>\n",
       "  </tbody>\n",
       "</table>\n",
       "</div>"
      ],
      "text/plain": [
       "   temporary_index_column  patient_id timestamp  measurement_x  measurement_y  \\\n",
       "0                       1           0   50:34.1            NaN       0.015569   \n",
       "1                       2           0   50:34.1            NaN       0.007757   \n",
       "2                       3           0   50:34.2            NaN      -0.000084   \n",
       "3                       4           0   50:34.2            NaN      -0.007953   \n",
       "4                       5           0   50:34.3            NaN      -0.015851   \n",
       "5                       6           0   50:34.3       0.798000      -0.023776   \n",
       "6                       7           0   50:34.4       0.795484      -0.031727   \n",
       "7                       8           0   50:34.4       0.793049      -0.039704   \n",
       "8                       9           0   50:34.5       0.790697      -0.047705   \n",
       "9                      10           0   50:34.5       0.788426      -0.055730   \n",
       "\n",
       "   measurement_z  label  \n",
       "0       0.068855      1  \n",
       "1       0.073745      1  \n",
       "2       0.073402      1  \n",
       "3       0.075000      1  \n",
       "4       0.076689      1  \n",
       "5       0.080064      1  \n",
       "6       0.077065      1  \n",
       "7       0.077875      1  \n",
       "8       0.076800      1  \n",
       "9       0.079076      1  "
      ]
     },
     "metadata": {},
     "output_type": "display_data"
    },
    {
     "name": "stdout",
     "output_type": "stream",
     "text": [
      "Dataset size (799999, 7)\n"
     ]
    }
   ],
   "source": [
    "df = pd.read_csv(\"~/clew/train_set.csv\")\n",
    "display(df.head(10))\n",
    "\n",
    "print(\"Dataset size\", df.shape)"
   ]
  },
  {
   "cell_type": "markdown",
   "id": "40e17ea7",
   "metadata": {},
   "source": [
    "# Handling missing values"
   ]
  },
  {
   "cell_type": "code",
   "execution_count": 679,
   "id": "5b119e6a",
   "metadata": {
    "scrolled": true
   },
   "outputs": [
    {
     "data": {
      "text/plain": [
       "temporary_index_column      0\n",
       "patient_id                  0\n",
       "timestamp                   0\n",
       "measurement_x             803\n",
       "measurement_y             156\n",
       "measurement_z             145\n",
       "label                       0\n",
       "dtype: int64"
      ]
     },
     "execution_count": 679,
     "metadata": {},
     "output_type": "execute_result"
    }
   ],
   "source": [
    "df.isna().sum()"
   ]
  },
  {
   "cell_type": "code",
   "execution_count": 680,
   "id": "f3c023cd",
   "metadata": {},
   "outputs": [
    {
     "name": "stdout",
     "output_type": "stream",
     "text": [
      "Removed 1104 records with timestamp duplicates\n"
     ]
    }
   ],
   "source": [
    "n = df.shape[0]\n",
    "df.dropna(axis=0, how='any', inplace=True)\n",
    "print(f\"Removed {n-df.shape[0]} records with timestamp duplicates\")"
   ]
  },
  {
   "cell_type": "code",
   "execution_count": 681,
   "id": "61a84cd2",
   "metadata": {},
   "outputs": [],
   "source": [
    "# check for duplications in index\n",
    "unique_idx = df.temporary_index_column.value_counts().nunique()\n",
    "if unique_idx > 1:\n",
    "    print(f\"Found duplications in temporary index\")\n",
    "else:\n",
    "    df.drop(columns=\"temporary_index_column\", inplace=True)"
   ]
  },
  {
   "cell_type": "code",
   "execution_count": 682,
   "id": "ee26a91e",
   "metadata": {},
   "outputs": [
    {
     "data": {
      "text/html": [
       "<div>\n",
       "<style scoped>\n",
       "    .dataframe tbody tr th:only-of-type {\n",
       "        vertical-align: middle;\n",
       "    }\n",
       "\n",
       "    .dataframe tbody tr th {\n",
       "        vertical-align: top;\n",
       "    }\n",
       "\n",
       "    .dataframe thead th {\n",
       "        text-align: right;\n",
       "    }\n",
       "</style>\n",
       "<table border=\"1\" class=\"dataframe\">\n",
       "  <thead>\n",
       "    <tr style=\"text-align: right;\">\n",
       "      <th></th>\n",
       "      <th></th>\n",
       "      <th>measurement_x</th>\n",
       "      <th>measurement_y</th>\n",
       "      <th>measurement_z</th>\n",
       "      <th>label</th>\n",
       "    </tr>\n",
       "    <tr>\n",
       "      <th>patient_id</th>\n",
       "      <th>timestamp</th>\n",
       "      <th></th>\n",
       "      <th></th>\n",
       "      <th></th>\n",
       "      <th></th>\n",
       "    </tr>\n",
       "  </thead>\n",
       "  <tbody>\n",
       "    <tr>\n",
       "      <th rowspan=\"5\" valign=\"top\">0</th>\n",
       "      <th>50:34.3</th>\n",
       "      <td>1</td>\n",
       "      <td>1</td>\n",
       "      <td>1</td>\n",
       "      <td>1</td>\n",
       "    </tr>\n",
       "    <tr>\n",
       "      <th>50:34.4</th>\n",
       "      <td>2</td>\n",
       "      <td>2</td>\n",
       "      <td>2</td>\n",
       "      <td>2</td>\n",
       "    </tr>\n",
       "    <tr>\n",
       "      <th>50:34.5</th>\n",
       "      <td>2</td>\n",
       "      <td>2</td>\n",
       "      <td>2</td>\n",
       "      <td>2</td>\n",
       "    </tr>\n",
       "    <tr>\n",
       "      <th>50:34.6</th>\n",
       "      <td>2</td>\n",
       "      <td>2</td>\n",
       "      <td>2</td>\n",
       "      <td>2</td>\n",
       "    </tr>\n",
       "    <tr>\n",
       "      <th>50:34.7</th>\n",
       "      <td>2</td>\n",
       "      <td>2</td>\n",
       "      <td>2</td>\n",
       "      <td>2</td>\n",
       "    </tr>\n",
       "    <tr>\n",
       "      <th>...</th>\n",
       "      <th>...</th>\n",
       "      <td>...</td>\n",
       "      <td>...</td>\n",
       "      <td>...</td>\n",
       "      <td>...</td>\n",
       "    </tr>\n",
       "    <tr>\n",
       "      <th rowspan=\"5\" valign=\"top\">25705</th>\n",
       "      <th>40:28.6</th>\n",
       "      <td>2</td>\n",
       "      <td>2</td>\n",
       "      <td>2</td>\n",
       "      <td>2</td>\n",
       "    </tr>\n",
       "    <tr>\n",
       "      <th>40:28.7</th>\n",
       "      <td>2</td>\n",
       "      <td>2</td>\n",
       "      <td>2</td>\n",
       "      <td>2</td>\n",
       "    </tr>\n",
       "    <tr>\n",
       "      <th>40:28.8</th>\n",
       "      <td>2</td>\n",
       "      <td>2</td>\n",
       "      <td>2</td>\n",
       "      <td>2</td>\n",
       "    </tr>\n",
       "    <tr>\n",
       "      <th>40:28.9</th>\n",
       "      <td>2</td>\n",
       "      <td>2</td>\n",
       "      <td>2</td>\n",
       "      <td>2</td>\n",
       "    </tr>\n",
       "    <tr>\n",
       "      <th>40:29.0</th>\n",
       "      <td>3</td>\n",
       "      <td>3</td>\n",
       "      <td>3</td>\n",
       "      <td>3</td>\n",
       "    </tr>\n",
       "  </tbody>\n",
       "</table>\n",
       "<p>403675 rows × 4 columns</p>\n",
       "</div>"
      ],
      "text/plain": [
       "                      measurement_x  measurement_y  measurement_z  label\n",
       "patient_id timestamp                                                    \n",
       "0          50:34.3                1              1              1      1\n",
       "           50:34.4                2              2              2      2\n",
       "           50:34.5                2              2              2      2\n",
       "           50:34.6                2              2              2      2\n",
       "           50:34.7                2              2              2      2\n",
       "...                             ...            ...            ...    ...\n",
       "25705      40:28.6                2              2              2      2\n",
       "           40:28.7                2              2              2      2\n",
       "           40:28.8                2              2              2      2\n",
       "           40:28.9                2              2              2      2\n",
       "           40:29.0                3              3              3      3\n",
       "\n",
       "[403675 rows x 4 columns]"
      ]
     },
     "execution_count": 682,
     "metadata": {},
     "output_type": "execute_result"
    }
   ],
   "source": [
    "# check for duplications\n",
    "grouped = df.groupby([\"patient_id\",\"timestamp\"]).count()\n",
    "grouped"
   ]
  },
  {
   "cell_type": "code",
   "execution_count": 683,
   "id": "f9d88d05",
   "metadata": {},
   "outputs": [
    {
     "name": "stdout",
     "output_type": "stream",
     "text": [
      "Removed 395220 records with timestamp duplicates\n"
     ]
    }
   ],
   "source": [
    "# keep only the last record in case of duplications in patient_id and timestamp\n",
    "n = df.shape[0]\n",
    "df.drop_duplicates(subset=[\"patient_id\",\"timestamp\"], keep='last', inplace=True)\n",
    "\n",
    "print(f\"Removed {n-df.shape[0]} records with timestamp duplicates\")"
   ]
  },
  {
   "cell_type": "code",
   "execution_count": 684,
   "id": "db7a11f3",
   "metadata": {},
   "outputs": [
    {
     "data": {
      "image/png": "[encoded data removed]",
      "text/plain": [
       "<Figure size 1440x720 with 6 Axes>"
      ]
     },
     "metadata": {
      "needs_background": "light"
     },
     "output_type": "display_data"
    }
   ],
   "source": [
    "fit, axes = plt.subplots(nrows=2, ncols=3, figsize=(20,10))\n",
    "\n",
    "sns.histplot(df.measurement_x, ax=axes[0,0])\n",
    "axes[0,0].set_title(\"X Measurement ditribution\")\n",
    "axes[0,0].set_xlabel('Measurement x')\n",
    "\n",
    "sns.histplot(df.measurement_y, ax=axes[0,1])\n",
    "axes[0,1].set_title(\"Y Measurement ditribution\")\n",
    "axes[0,1].set_xlabel('Measurement y')\n",
    "\n",
    "sns.histplot(df.measurement_z, ax=axes[0,2])\n",
    "axes[0,2].set_title(\"Z Measurement ditribution\")\n",
    "axes[0,2].set_xlabel('Measurement z')\n",
    "\n",
    "sns.boxplot(x='measurement_x', data=df, ax=axes[1,0])\n",
    "axes[1,0].set_title(\"X Measurement ditribution\")\n",
    "axes[1,0].set_xlabel('Measurement x')\n",
    "\n",
    "sns.boxplot(x='measurement_y', data=df, ax=axes[1,1])\n",
    "axes[1,1].set_title(\"Y Measurement ditribution\")\n",
    "axes[1,1].set_xlabel('Measurement y')\n",
    "\n",
    "sns.boxplot(x='measurement_z', data=df, ax=axes[1,2])\n",
    "axes[1,2].set_title(\"Z Measurement ditribution\")\n",
    "axes[1,2].set_xlabel('Measurement z')\n",
    "\n",
    "plt.show()"
   ]
  },
  {
   "cell_type": "markdown",
   "id": "b8dd0785",
   "metadata": {},
   "source": [
    "# Remove population outliers using IQR method"
   ]
  },
  {
   "cell_type": "code",
   "execution_count": 685,
   "id": "e18a3306",
   "metadata": {},
   "outputs": [
    {
     "name": "stdout",
     "output_type": "stream",
     "text": [
      "Removed 34418 suspected population outliers from the dataset.\n"
     ]
    }
   ],
   "source": [
    "def remove_outlier_IQR(df):\n",
    "    Q1=df.quantile(0.25)\n",
    "    Q3=df.quantile(0.75)\n",
    "    IQR=Q3-Q1\n",
    "    df_final=df[(df < (Q1-1.5*IQR)) | (df > (Q3+1.5*IQR))]\n",
    "    return Q1, Q3, df_final\n",
    "\n",
    "q1_x, q3_x, x_outlier_removed = remove_outlier_IQR(df.measurement_x)\n",
    "x_outlier_idx = x_outlier_removed.index\n",
    "q1_y, q3_y, y_outlier_removed = remove_outlier_IQR(df.measurement_y)\n",
    "y_outlier_idx = y_outlier_removed.index\n",
    "q1_z, q3_z, z_outlier_removed = remove_outlier_IQR(df.measurement_z)\n",
    "z_outlier_idx = z_outlier_removed.index\n",
    "\n",
    "outlier_removed = np.union1d(x_outlier_idx, y_outlier_idx)\n",
    "outlier_removed = np.union1d(outlier_removed, z_outlier_idx)\n",
    "\n",
    "n = df.shape[0]\n",
    "\n",
    "df.drop(index=outlier_removed, inplace=True)\n",
    "df.sort_index(axis=0, inplace=True)\n",
    "\n",
    "print(f\"Removed {n-df.shape[0]} suspected population outliers from the dataset.\")"
   ]
  },
  {
   "cell_type": "markdown",
   "id": "27073c9d",
   "metadata": {},
   "source": [
    "# Remove patient-specific outliers using IQR method"
   ]
  },
  {
   "cell_type": "code",
   "execution_count": 686,
   "id": "9a75d036",
   "metadata": {},
   "outputs": [
    {
     "name": "stdout",
     "output_type": "stream",
     "text": [
      "Removed 12448 suspected patient-specific outliers from the dataset.\n"
     ]
    }
   ],
   "source": [
    "outlier_removed = np.array([])\n",
    "for pat_id in df.patient_id.unique():\n",
    "    pat_df = df[df.patient_id == pat_id].copy()\n",
    "    x_outlier_removed = remove_outlier_IQR(pat_df.measurement_x)[-1].index\n",
    "    y_outlier_removed = remove_outlier_IQR(pat_df.measurement_y)[-1].index\n",
    "    z_outlier_removed = remove_outlier_IQR(pat_df.measurement_z)[-1].index\n",
    "    outlier_removed = np.union1d(outlier_removed, x_outlier_removed)\n",
    "    outlier_removed = np.union1d(outlier_removed, y_outlier_removed)\n",
    "    outlier_removed = np.union1d(outlier_removed, z_outlier_removed)\n",
    "\n",
    "n = df.shape[0]\n",
    "df.drop(index=outlier_removed, inplace=True)\n",
    "df.sort_index(axis=0, inplace=True)\n",
    "print(f\"Removed {n-df.shape[0]} suspected patient-specific outliers from the dataset.\")"
   ]
  },
  {
   "cell_type": "markdown",
   "id": "728499b4",
   "metadata": {},
   "source": [
    "# Define max sequence length"
   ]
  },
  {
   "cell_type": "code",
   "execution_count": 687,
   "id": "c8cdfb7e",
   "metadata": {},
   "outputs": [
    {
     "name": "stdout",
     "output_type": "stream",
     "text": [
      "Found 32 different sequence sizes in training set\n"
     ]
    },
    {
     "data": {
      "image/png": "[encoded data removed]",
      "text/plain": [
       "<Figure size 432x288 with 1 Axes>"
      ]
     },
     "metadata": {
      "needs_background": "light"
     },
     "output_type": "display_data"
    }
   ],
   "source": [
    "seq_sizes = df.groupby('patient_id').count().label\n",
    "print(f'Found {len(seq_sizes.unique())} different sequence sizes in training set')\n",
    "\n",
    "fit, ax = plt.subplots(1,1)\n",
    "sns.histplot(seq_sizes, ax=ax)\n",
    "ax.set_title(\"Sequence size ditribution\")\n",
    "ax.set_xlabel('sequence size')\n",
    "plt.show()"
   ]
  },
  {
   "cell_type": "code",
   "execution_count": 688,
   "id": "35ab1c4d",
   "metadata": {},
   "outputs": [],
   "source": [
    "max_seq_size = 30"
   ]
  },
  {
   "cell_type": "markdown",
   "id": "d7805095",
   "metadata": {},
   "source": [
    "# Rescaling the measurements to 0,1 using min-max scaler"
   ]
  },
  {
   "cell_type": "code",
   "execution_count": 689,
   "id": "7d713f74",
   "metadata": {},
   "outputs": [],
   "source": [
    "scaler = MinMaxScaler()\n",
    "measurements_label = ['measurement_x','measurement_y','measurement_z']\n",
    "df[measurements_label] = scaler.fit_transform(df[measurements_label])"
   ]
  },
  {
   "cell_type": "code",
   "execution_count": 690,
   "id": "bd6b7dd1",
   "metadata": {},
   "outputs": [
    {
     "data": {
      "image/png": "[encoded data removed]",
      "text/plain": [
       "<Figure size 1440x720 with 9 Axes>"
      ]
     },
     "metadata": {
      "needs_background": "light"
     },
     "output_type": "display_data"
    }
   ],
   "source": [
    "fig, axes = plt.subplots(nrows=3, ncols=3, figsize=(20,10))\n",
    "fig.tight_layout(pad=4)\n",
    "\n",
    "# random patient wih label 0\n",
    "# labeled_0_pat = df[df.patient_id == np.random.choice(df.loc[df.label == 0, 'patient_id'])]\n",
    "\n",
    "sns.lineplot(data=labeled_0_pat.measurement_x, ax=axes[0,0])\n",
    "axes[0,0].set_title(f'measurement_x of patient {int(labeled_0_pat.iloc[0].patient_id)}')\n",
    "\n",
    "sns.lineplot(data=labeled_0_pat.measurement_y, ax=axes[0,1])\n",
    "axes[0,1].set_title(f'measurement_y of patient {labeled_0_pat.iloc[0].patient_id}')\n",
    "\n",
    "sns.lineplot(data=labeled_0_pat.measurement_z, ax=axes[0,2])\n",
    "axes[0,2].set_title(f'measurement_z of patient {labeled_0_pat.iloc[0].patient_id}')\n",
    "\n",
    "# random patient wih label 1\n",
    "# labeled_1_pat = df[df.patient_id == np.random.choice(df.loc[df.label == 1, 'patient_id'])]\n",
    "\n",
    "sns.lineplot(data=labeled_1_pat.measurement_x, ax=axes[1,0])\n",
    "axes[1,0].set_title(f'measurement_x of patient {int(labeled_1_pat.iloc[0].patient_id)}')\n",
    "\n",
    "sns.lineplot(data=labeled_1_pat.measurement_y, ax=axes[1,1])\n",
    "axes[1,1].set_title(f'measurement_y of patient {labeled_1_pat.iloc[0].patient_id}')\n",
    "\n",
    "sns.lineplot(data=labeled_1_pat.measurement_z, ax=axes[1,2])\n",
    "axes[1,2].set_title(f'measurement_z of patient {labeled_1_pat.iloc[0].patient_id}')\n",
    "\n",
    "# random patient wih label 2\n",
    "# labeled_2_pat = df[df.patient_id == np.random.choice(df.loc[df.label == 2, 'patient_id'])]\n",
    "\n",
    "sns.lineplot(data=labeled_2_pat.measurement_x, ax=axes[2,0])\n",
    "axes[2,0].set_title(f'measurement_x of patient {int(labeled_2_pat.iloc[0].patient_id)}')\n",
    "\n",
    "sns.lineplot(data=labeled_2_pat.measurement_y, ax=axes[2,1])\n",
    "axes[2,1].set_title(f'measurement_y of patient {labeled_2_pat.iloc[0].patient_id}')\n",
    "\n",
    "sns.lineplot(data=labeled_2_pat.measurement_z, ax=axes[2,2])\n",
    "axes[2,2].set_title(f'measurement_z of patient {labeled_2_pat.iloc[0].patient_id}')\n",
    "\n",
    "plt.show()"
   ]
  },
  {
   "cell_type": "markdown",
   "id": "2bfd3e7d",
   "metadata": {},
   "source": [
    "# Feature engineering and zero padding to each measurement"
   ]
  },
  {
   "cell_type": "code",
   "execution_count": 771,
   "id": "95d997d8",
   "metadata": {
    "scrolled": true
   },
   "outputs": [
    {
     "name": "stdout",
     "output_type": "stream",
     "text": [
      "Example of a single record in new processed data:\n",
      "[[0.         0.         0.        ]\n",
      " [0.         0.         0.        ]\n",
      " [0.         0.         0.        ]\n",
      " [0.         0.         0.        ]\n",
      " [0.         0.         0.        ]\n",
      " [0.         0.         0.        ]\n",
      " [0.         0.         0.        ]\n",
      " [0.         0.         0.        ]\n",
      " [0.         0.         0.        ]\n",
      " [0.         0.         0.        ]\n",
      " [0.         0.         0.        ]\n",
      " [0.         0.         0.        ]\n",
      " [0.         0.         0.        ]\n",
      " [0.         0.         0.        ]\n",
      " [0.         0.         0.        ]\n",
      " [0.         0.         0.        ]\n",
      " [0.         0.         0.        ]\n",
      " [0.62566528 0.33449261 0.44511634]\n",
      " [0.62177869 0.31781874 0.43357527]\n",
      " [0.61814993 0.30104186 0.4399062 ]\n",
      " [0.61478052 0.28416904 0.42567747]\n",
      " [0.61167191 0.26720743 0.40444511]\n",
      " [0.60882538 0.25016417 0.39553382]\n",
      " [0.60624216 0.23304649 0.36989852]\n",
      " [0.60392333 0.21586161 0.33957189]\n",
      " [0.60186987 0.1986168  0.3111796 ]\n",
      " [0.60008265 0.18131933 0.26709211]\n",
      " [0.59856243 0.16397653 0.22955839]\n",
      " [0.59730984 0.14659572 0.17786539]\n",
      " [0.59632542 0.12918424 0.11150679]]\n"
     ]
    }
   ],
   "source": [
    "lst = []\n",
    "for pat in df.patient_id.unique():\n",
    "    temp_df = df[df.patient_id == pat][measurements_label].copy()\n",
    "    n = temp_df.shape[0]\n",
    "    temp_df = np.asarray(temp_df).reshape((1,) + temp_df.shape)\n",
    "    if n < max_seq_size:\n",
    "        completion = np.zeros(shape=(1,max_seq_size-n,3))\n",
    "        temp_df = np.concatenate([completion, temp_df], axis=1)\n",
    "    else:\n",
    "        temp_df = temp_df[:,-max_seq_size:,:]\n",
    "    \n",
    "    lst.append(temp_df)\n",
    "    \n",
    "X = np.concatenate(lst, axis=0)\n",
    "\n",
    "print(\"Example of a single record in new processed data:\")\n",
    "print(X[0])"
   ]
  },
  {
   "cell_type": "markdown",
   "id": "1d13ac46",
   "metadata": {},
   "source": [
    "# Oversample the data with SMOTE"
   ]
  },
  {
   "cell_type": "code",
   "execution_count": 772,
   "id": "c8b893d8",
   "metadata": {},
   "outputs": [
    {
     "data": {
      "text/plain": [
       "0    17613\n",
       "1     6214\n",
       "2     1600\n",
       "Name: label, dtype: int64"
      ]
     },
     "execution_count": 772,
     "metadata": {},
     "output_type": "execute_result"
    }
   ],
   "source": [
    "label = df.drop_duplicates(subset='patient_id').label\n",
    "label.value_counts()"
   ]
  },
  {
   "cell_type": "code",
   "execution_count": 775,
   "id": "22436e8b",
   "metadata": {},
   "outputs": [
    {
     "data": {
      "text/plain": [
       "0    17613\n",
       "1    17613\n",
       "2    17613\n",
       "Name: label, dtype: int64"
      ]
     },
     "execution_count": 775,
     "metadata": {},
     "output_type": "execute_result"
    }
   ],
   "source": [
    "X = X.reshape(X.shape[0], max_seq_size*3)\n",
    "sm = SMOTE(random_state=42)\n",
    "X_res, y_res = sm.fit_resample(X, label)\n",
    "X = X_res.reshape((len(X_res),max_seq_size,3))\n",
    "\n",
    "label = y_res\n",
    "label.value_counts()"
   ]
  },
  {
   "cell_type": "markdown",
   "id": "2d81410a",
   "metadata": {},
   "source": [
    "# Train-Validation split"
   ]
  },
  {
   "cell_type": "code",
   "execution_count": 776,
   "id": "c7ace42e",
   "metadata": {},
   "outputs": [
    {
     "name": "stdout",
     "output_type": "stream",
     "text": [
      "train set size: (35402, 30, 3)\n",
      "test set size: (17437, 30, 3)\n"
     ]
    }
   ],
   "source": [
    "X_train, X_cv, y_train, y_cv = train_test_split(X, label, test_size=0.33, random_state=7)\n",
    "print('train set size:', X_train.shape)\n",
    "print('test set size:', X_cv.shape)"
   ]
  },
  {
   "cell_type": "markdown",
   "id": "4869da95",
   "metadata": {},
   "source": [
    "# Model Architecture - LSTM"
   ]
  },
  {
   "cell_type": "code",
   "execution_count": 785,
   "id": "6b145c92",
   "metadata": {},
   "outputs": [
    {
     "name": "stdout",
     "output_type": "stream",
     "text": [
      "Epoch 1/5\n",
      "554/554 [==============================] - 10s 15ms/step - loss: 0.0000e+00 - acc: 0.4605 - precision_8: 0.8301 - recall_8: 0.8105 - val_loss: 0.0000e+00 - val_acc: 0.5176 - val_precision_8: 0.8988 - val_recall_8: 0.8310\n",
      "Epoch 2/5\n",
      "554/554 [==============================] - 7s 13ms/step - loss: 0.0000e+00 - acc: 0.5380 - precision_8: 0.9411 - recall_8: 0.8063 - val_loss: 0.0000e+00 - val_acc: 0.5697 - val_precision_8: 0.9262 - val_recall_8: 0.9265\n",
      "Epoch 3/5\n",
      "554/554 [==============================] - 7s 13ms/step - loss: 0.0000e+00 - acc: 0.5562 - precision_8: 0.9526 - recall_8: 0.8320 - val_loss: 0.0000e+00 - val_acc: 0.5095 - val_precision_8: 0.9864 - val_recall_8: 0.6969\n",
      "Epoch 4/5\n",
      "554/554 [==============================] - 7s 13ms/step - loss: 0.0000e+00 - acc: 0.5427 - precision_8: 0.9499 - recall_8: 0.8038 - val_loss: 0.0000e+00 - val_acc: 0.5358 - val_precision_8: 0.8710 - val_recall_8: 0.9452\n",
      "Epoch 5/5\n",
      "554/554 [==============================] - 8s 14ms/step - loss: 0.0000e+00 - acc: 0.5410 - precision_8: 0.9427 - recall_8: 0.8179 - val_loss: 0.0000e+00 - val_acc: 0.5648 - val_precision_8: 0.9191 - val_recall_8: 0.9289\n",
      "\n",
      "\n",
      "Model: \"sequential_8\"\n",
      "_________________________________________________________________\n",
      "Layer (type)                 Output Shape              Param #   \n",
      "=================================================================\n",
      "lstm_8 (LSTM)                (None, 30)                4080      \n",
      "_________________________________________________________________\n",
      "dense_8 (Dense)              (None, 1)                 31        \n",
      "=================================================================\n",
      "Total params: 4,111\n",
      "Trainable params: 4,111\n",
      "Non-trainable params: 0\n",
      "_________________________________________________________________\n",
      "None\n"
     ]
    }
   ],
   "source": [
    "model = Sequential()\n",
    "model.add(LSTM(max_seq_size))\n",
    "# model.add(Dropout(0.2))\n",
    "model.add(Dense(1, activation='sigmoid'))\n",
    "model.compile(loss='categorical_crossentropy', optimizer='RMSprop', metrics=['acc', tf.keras.metrics.Precision(), tf.keras.metrics.Recall()])\n",
    "\n",
    "model.fit(X_train, y_train, validation_data=(X_cv, y_cv), epochs=5, batch_size=64)\n",
    "print(\"\\n\")\n",
    "print(model.summary())"
   ]
  },
  {
   "cell_type": "markdown",
   "id": "8a5b414f",
   "metadata": {},
   "source": [
    "# Evaluation of the model"
   ]
  },
  {
   "cell_type": "markdown",
   "id": "51b1ecba",
   "metadata": {},
   "source": [
    "## Validation Metrics"
   ]
  },
  {
   "cell_type": "code",
   "execution_count": 787,
   "id": "e000507c",
   "metadata": {},
   "outputs": [
    {
     "name": "stdout",
     "output_type": "stream",
     "text": [
      "\n",
      "Validation metrics:\n",
      "{'loss': 0.0, 'accuracy': 0.564833402633667, 'precision': 0.9191457033157349, 'recall': 0.9289079308509827, 'f1_score': 0.9240010329057007}\n"
     ]
    }
   ],
   "source": [
    "loss, accuracy, precision, recall = model.evaluate(X_cv, y_cv, verbose=0)\n",
    "y_pred = model.predict(X_cv).reshape(-1).astype('int64').tolist()\n",
    "y_true = y_cv.tolist()\n",
    "\n",
    "print(\"\\nValidation metrics:\")\n",
    "print({'loss': loss, 'accuracy': accuracy, 'precision': precision, 'recall': recall,\n",
    "       'f1_score': 2*(precision*recall)/(precision + recall)})"
   ]
  },
  {
   "cell_type": "markdown",
   "id": "49116317",
   "metadata": {},
   "source": [
    "## Confusion Matrix and Classification Report"
   ]
  },
  {
   "cell_type": "code",
   "execution_count": 788,
   "id": "9fec3af6",
   "metadata": {},
   "outputs": [
    {
     "data": {
      "text/html": [
       "<div>\n",
       "<style scoped>\n",
       "    .dataframe tbody tr th:only-of-type {\n",
       "        vertical-align: middle;\n",
       "    }\n",
       "\n",
       "    .dataframe tbody tr th {\n",
       "        vertical-align: top;\n",
       "    }\n",
       "\n",
       "    .dataframe thead th {\n",
       "        text-align: right;\n",
       "    }\n",
       "</style>\n",
       "<table border=\"1\" class=\"dataframe\">\n",
       "  <thead>\n",
       "    <tr style=\"text-align: right;\">\n",
       "      <th></th>\n",
       "      <th>Model 0</th>\n",
       "      <th>Model 1</th>\n",
       "      <th>Model 2</th>\n",
       "    </tr>\n",
       "  </thead>\n",
       "  <tbody>\n",
       "    <tr>\n",
       "      <th>Actual 0</th>\n",
       "      <td>4814</td>\n",
       "      <td>948</td>\n",
       "      <td>0</td>\n",
       "    </tr>\n",
       "    <tr>\n",
       "      <th>Actual 1</th>\n",
       "      <td>772</td>\n",
       "      <td>5019</td>\n",
       "      <td>0</td>\n",
       "    </tr>\n",
       "    <tr>\n",
       "      <th>Actual 2</th>\n",
       "      <td>85</td>\n",
       "      <td>5799</td>\n",
       "      <td>0</td>\n",
       "    </tr>\n",
       "  </tbody>\n",
       "</table>\n",
       "</div>"
      ],
      "text/plain": [
       "          Model 0  Model 1  Model 2\n",
       "Actual 0     4814      948        0\n",
       "Actual 1      772     5019        0\n",
       "Actual 2       85     5799        0"
      ]
     },
     "metadata": {},
     "output_type": "display_data"
    },
    {
     "name": "stdout",
     "output_type": "stream",
     "text": [
      "              precision    recall  f1-score   support\n",
      "\n",
      "           0       0.85      0.84      0.84      5762\n",
      "           1       0.43      0.87      0.57      5791\n",
      "           2       1.00      0.00      0.00      5884\n",
      "\n",
      "    accuracy                           0.56     17437\n",
      "   macro avg       0.76      0.57      0.47     17437\n",
      "weighted avg       0.76      0.56      0.47     17437\n",
      "\n"
     ]
    }
   ],
   "source": [
    "conf_matrix = tf.math.confusion_matrix(labels=y_true, predictions=y_pred, num_classes=3)\n",
    "conf_matrix = pd.DataFrame(conf_matrix.numpy(), index=[\"Actual 0\", \"Actual 1\", \"Actual 2\"], columns=[\"Model 0\", \"Model 1\", \"Model 2\"])\n",
    "\n",
    "display(conf_matrix)\n",
    "print(classification_report(y_true=y_true, y_pred=y_pred, zero_division=True))"
   ]
  },
  {
   "cell_type": "markdown",
   "id": "43f9ba1b",
   "metadata": {},
   "source": [
    "# Fitting the scaler and model on the whole training set"
   ]
  },
  {
   "cell_type": "code",
   "execution_count": 789,
   "id": "9610c018",
   "metadata": {},
   "outputs": [
    {
     "name": "stdout",
     "output_type": "stream",
     "text": [
      "Epoch 1/5\n",
      "826/826 [==============================] - 9s 11ms/step - loss: 0.0000e+00 - acc: 0.5421 - precision_8: 0.9503 - recall_8: 0.8130\n",
      "Epoch 2/5\n",
      "826/826 [==============================] - 9s 11ms/step - loss: 0.0000e+00 - acc: 0.5444 - precision_8: 0.9523 - recall_8: 0.8147\n",
      "Epoch 3/5\n",
      "826/826 [==============================] - 9s 11ms/step - loss: 0.0000e+00 - acc: 0.5472 - precision_8: 0.9589 - recall_8: 0.8154\n",
      "Epoch 4/5\n",
      "826/826 [==============================] - 9s 11ms/step - loss: 0.0000e+00 - acc: 0.5481 - precision_8: 0.9613 - recall_8: 0.8097\n",
      "Epoch 5/5\n",
      "826/826 [==============================] - 11s 13ms/step - loss: 0.0000e+00 - acc: 0.5495 - precision_8: 0.9597 - recall_8: 0.8215\n",
      "\n",
      "\n",
      "Model: \"sequential_8\"\n",
      "_________________________________________________________________\n",
      "Layer (type)                 Output Shape              Param #   \n",
      "=================================================================\n",
      "lstm_8 (LSTM)                (None, 30)                4080      \n",
      "_________________________________________________________________\n",
      "dense_8 (Dense)              (None, 1)                 31        \n",
      "=================================================================\n",
      "Total params: 4,111\n",
      "Trainable params: 4,111\n",
      "Non-trainable params: 0\n",
      "_________________________________________________________________\n",
      "None\n"
     ]
    }
   ],
   "source": [
    "model.fit(X, label, epochs=5, batch_size=64)\n",
    "print(\"\\n\")\n",
    "print(model.summary())"
   ]
  },
  {
   "cell_type": "code",
   "execution_count": 792,
   "id": "aef69881",
   "metadata": {},
   "outputs": [
    {
     "name": "stdout",
     "output_type": "stream",
     "text": [
      "{'loss': 0.0, 'accuracy': 0.5272999405860901, 'precision': 0.9840629696846008, 'recall': 0.7344574928283691, 'f1_score': 0.8411333321488881}\n"
     ]
    }
   ],
   "source": [
    "loss, accuracy, precision, recall = model.evaluate(X, label, verbose=0)\n",
    "print({'loss': loss, 'accuracy': accuracy, 'precision': precision, 'recall': recall,\n",
    "       'f1_score': 2*(precision*recall)/(precision + recall)})"
   ]
  },
  {
   "cell_type": "markdown",
   "id": "bc854169",
   "metadata": {},
   "source": [
    "# Create new labels for new unseen data"
   ]
  },
  {
   "cell_type": "code",
   "execution_count": 817,
   "id": "86214856",
   "metadata": {},
   "outputs": [
    {
     "data": {
      "text/html": [
       "<div>\n",
       "<style scoped>\n",
       "    .dataframe tbody tr th:only-of-type {\n",
       "        vertical-align: middle;\n",
       "    }\n",
       "\n",
       "    .dataframe tbody tr th {\n",
       "        vertical-align: top;\n",
       "    }\n",
       "\n",
       "    .dataframe thead th {\n",
       "        text-align: right;\n",
       "    }\n",
       "</style>\n",
       "<table border=\"1\" class=\"dataframe\">\n",
       "  <thead>\n",
       "    <tr style=\"text-align: right;\">\n",
       "      <th></th>\n",
       "      <th>label</th>\n",
       "      <th>patient_id</th>\n",
       "    </tr>\n",
       "  </thead>\n",
       "  <tbody>\n",
       "    <tr>\n",
       "      <th>0</th>\n",
       "      <td>0</td>\n",
       "      <td>25705</td>\n",
       "    </tr>\n",
       "    <tr>\n",
       "      <th>1</th>\n",
       "      <td>0</td>\n",
       "      <td>25706</td>\n",
       "    </tr>\n",
       "    <tr>\n",
       "      <th>2</th>\n",
       "      <td>0</td>\n",
       "      <td>25707</td>\n",
       "    </tr>\n",
       "    <tr>\n",
       "      <th>3</th>\n",
       "      <td>0</td>\n",
       "      <td>25708</td>\n",
       "    </tr>\n",
       "    <tr>\n",
       "      <th>4</th>\n",
       "      <td>0</td>\n",
       "      <td>25709</td>\n",
       "    </tr>\n",
       "    <tr>\n",
       "      <th>5</th>\n",
       "      <td>0</td>\n",
       "      <td>25710</td>\n",
       "    </tr>\n",
       "    <tr>\n",
       "      <th>6</th>\n",
       "      <td>0</td>\n",
       "      <td>25711</td>\n",
       "    </tr>\n",
       "    <tr>\n",
       "      <th>7</th>\n",
       "      <td>0</td>\n",
       "      <td>25712</td>\n",
       "    </tr>\n",
       "    <tr>\n",
       "      <th>8</th>\n",
       "      <td>0</td>\n",
       "      <td>25713</td>\n",
       "    </tr>\n",
       "    <tr>\n",
       "      <th>9</th>\n",
       "      <td>0</td>\n",
       "      <td>25714</td>\n",
       "    </tr>\n",
       "  </tbody>\n",
       "</table>\n",
       "</div>"
      ],
      "text/plain": [
       "   label  patient_id\n",
       "0      0       25705\n",
       "1      0       25706\n",
       "2      0       25707\n",
       "3      0       25708\n",
       "4      0       25709\n",
       "5      0       25710\n",
       "6      0       25711\n",
       "7      0       25712\n",
       "8      0       25713\n",
       "9      0       25714"
      ]
     },
     "metadata": {},
     "output_type": "display_data"
    }
   ],
   "source": [
    "# read the test input\n",
    "test = pd.read_csv(\"~/clew/test_set.csv\").drop(columns=['temporary_index_column'])\n",
    "# keep last record  in case of timestamp duplicates\n",
    "test.drop_duplicates(subset=[\"patient_id\",\"timestamp\"], keep='last', inplace=True)\n",
    "# population outlier removal\n",
    "iqr_x = q3_x - q1_x\n",
    "iqr_y = q3_y - q1_y\n",
    "iqr_z = q3_z - q1_z\n",
    "x_outlier_removed = test.measurement_x[(test.measurement_x < (q1_x-1.5*iqr_x)) | (test.measurement_x > (q3_x+1.5*iqr_x))]\n",
    "x_outlier_idx = x_outlier_removed.index\n",
    "y_outlier_removed = test.measurement_y[(test.measurement_y < (q1_y-1.5*iqr_y)) | (test.measurement_y > (q3_y+1.5*iqr_y))]\n",
    "y_outlier_idx = y_outlier_removed.index\n",
    "z_outlier_removed = test.measurement_z[(test.measurement_z < (q1_z-1.5*iqr_z)) | (test.measurement_z > (q3_z+1.5*iqr_z))]\n",
    "z_outlier_idx = z_outlier_removed.index\n",
    "outlier_removed = np.union1d(x_outlier_idx, y_outlier_idx)\n",
    "outlier_removed = np.union1d(outlier_removed, z_outlier_idx)\n",
    "test.drop(index=outlier_removed, inplace=True)\n",
    "test.sort_index(axis=0, inplace=True)\n",
    "# patient-specific outlier removal\n",
    "outlier_removed = np.array([])\n",
    "for pat_id in test.patient_id.unique():\n",
    "    pat_df = test[test.patient_id == pat_id].copy()\n",
    "    x_outlier_removed = remove_outlier_IQR(pat_df.measurement_x)[-1].index\n",
    "    y_outlier_removed = remove_outlier_IQR(pat_df.measurement_y)[-1].index\n",
    "    z_outlier_removed = remove_outlier_IQR(pat_df.measurement_z)[-1].index\n",
    "    outlier_removed = np.union1d(outlier_removed, x_outlier_removed)\n",
    "    outlier_removed = np.union1d(outlier_removed, y_outlier_removed)\n",
    "    outlier_removed = np.union1d(outlier_removed, z_outlier_removed)\n",
    "test.drop(index=outlier_removed, inplace=True)\n",
    "test.sort_index(axis=0, inplace=True)\n",
    "# feature rescaling\n",
    "test[measurements_label] = scaler.transform(test[measurements_label])\n",
    "\n",
    "lst = []\n",
    "for pat in test.patient_id.unique():\n",
    "    temp_df = test[test.patient_id == pat][measurements_label].copy()\n",
    "    temp_df = np.asarray(temp_df).reshape((1,) + temp_df.shape)\n",
    "    n = temp_df.shape[1]\n",
    "    if n < max_seq_size:\n",
    "        completion = np.zeros(shape=(1,max_seq_size-n,3))\n",
    "        temp_df = np.concatenate([completion, temp_df], axis=1)\n",
    "    else:\n",
    "        temp_df = temp_df[:,-max_seq_size:,:]\n",
    "    \n",
    "    lst.append(temp_df)\n",
    "    \n",
    "X_test = np.concatenate(lst, axis=0)\n",
    "\n",
    "y_pred = model.predict(X_test).reshape(-1).astype('int32')\n",
    "patients = test.patient_id.drop_duplicates()\n",
    "res = pd.DataFrame([y_pred, patients], index=[\"label\",\"patient_id\"]).T\n",
    "res.to_csv('~/clew/submission.csv', index=False)\n",
    "display(res.head(10))"
   ]
  },
  {
   "cell_type": "markdown",
   "id": "683a15a5",
   "metadata": {},
   "source": [
    "# Save max_seq_size, population_quantiles, scaler and model to disk"
   ]
  },
  {
   "cell_type": "code",
   "execution_count": 816,
   "id": "94d0f38a",
   "metadata": {
    "scrolled": true
   },
   "outputs": [
    {
     "name": "stdout",
     "output_type": "stream",
     "text": [
      "Successfully saved scaler to disk.\n",
      "Successfully saved model to disk.\n"
     ]
    }
   ],
   "source": [
    "process_params = {\n",
    "                    \"quantiles\": {\"measurement_x\": {\"q1\": q1_x, \"q3\": q3_x},\n",
    "                                \"measurement_y\": {\"q1\": q1_y, \"q3\": q3_y},\n",
    "                                \"measurement_z\": {\"q1\": q1_z, \"q3\": q3_z}},\n",
    "                    \"max_seq_size\": 30\n",
    "                }\n",
    "\n",
    "with open(\"process_params.json\", \"w\") as outFile:\n",
    "    json.dump(process_params, outFile, indent=4)\n",
    "    outFile.close()\n",
    "\n",
    "joblib.dump(scaler, 'scaler.dat')\n",
    "print(\"Successfully saved scaler to disk.\")\n",
    "model.save('model.h5')\n",
    "print(\"Successfully saved model to disk.\")"
   ]
  }
 ],
 "metadata": {
  "kernelspec": {
   "display_name": "Python 3",
   "language": "python",
   "name": "python3"
  },
  "language_info": {
   "codemirror_mode": {
    "name": "ipython",
    "version": 3
   },
   "file_extension": ".py",
   "mimetype": "text/x-python",
   "name": "python",
   "nbconvert_exporter": "python",
   "pygments_lexer": "ipython3",
   "version": "3.8.5"
  }
 },
 "nbformat": 4,
 "nbformat_minor": 5
}
