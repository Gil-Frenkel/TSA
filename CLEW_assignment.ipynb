{
 "cells": [
  {
   "cell_type": "markdown",
   "id": "29033d42",
   "metadata": {},
   "source": [
    "# Import main libraries"
   ]
  },
  {
   "cell_type": "code",
   "execution_count": 577,
   "id": "dd3abc84",
   "metadata": {},
   "outputs": [],
   "source": [
    "import numpy as np\n",
    "import pandas as pd\n",
    "from sklearn.model_selection import train_test_split\n",
    "from sklearn.preprocessing import MinMaxScaler\n",
    "from sklearn.metrics import classification_report\n",
    "from keras.models import Sequential\n",
    "from keras.layers import Dense\n",
    "from keras.layers import LSTM\n",
    "from keras.layers.embeddings import Embedding\n",
    "from keras.preprocessing import sequence\n",
    "import seaborn as sns\n",
    "import matplotlib.pyplot as plt\n",
    "\n",
    "# fix random seed for reproducibility\n",
    "np.random.seed(7)"
   ]
  },
  {
   "cell_type": "markdown",
   "id": "d53861db",
   "metadata": {},
   "source": [
    "# Load dataset"
   ]
  },
  {
   "cell_type": "code",
   "execution_count": 578,
   "id": "cc052de6",
   "metadata": {
    "scrolled": true
   },
   "outputs": [
    {
     "data": {
      "text/html": [
       "<div>\n",
       "<style scoped>\n",
       "    .dataframe tbody tr th:only-of-type {\n",
       "        vertical-align: middle;\n",
       "    }\n",
       "\n",
       "    .dataframe tbody tr th {\n",
       "        vertical-align: top;\n",
       "    }\n",
       "\n",
       "    .dataframe thead th {\n",
       "        text-align: right;\n",
       "    }\n",
       "</style>\n",
       "<table border=\"1\" class=\"dataframe\">\n",
       "  <thead>\n",
       "    <tr style=\"text-align: right;\">\n",
       "      <th></th>\n",
       "      <th>patient_id</th>\n",
       "      <th>measurement_x</th>\n",
       "      <th>measurement_y</th>\n",
       "      <th>measurement_z</th>\n",
       "      <th>label</th>\n",
       "    </tr>\n",
       "  </thead>\n",
       "  <tbody>\n",
       "    <tr>\n",
       "      <th>0</th>\n",
       "      <td>0</td>\n",
       "      <td>NaN</td>\n",
       "      <td>0.015569</td>\n",
       "      <td>0.068855</td>\n",
       "      <td>1</td>\n",
       "    </tr>\n",
       "    <tr>\n",
       "      <th>1</th>\n",
       "      <td>0</td>\n",
       "      <td>NaN</td>\n",
       "      <td>0.007757</td>\n",
       "      <td>0.073745</td>\n",
       "      <td>1</td>\n",
       "    </tr>\n",
       "    <tr>\n",
       "      <th>2</th>\n",
       "      <td>0</td>\n",
       "      <td>NaN</td>\n",
       "      <td>-0.000084</td>\n",
       "      <td>0.073402</td>\n",
       "      <td>1</td>\n",
       "    </tr>\n",
       "    <tr>\n",
       "      <th>3</th>\n",
       "      <td>0</td>\n",
       "      <td>NaN</td>\n",
       "      <td>-0.007953</td>\n",
       "      <td>0.075000</td>\n",
       "      <td>1</td>\n",
       "    </tr>\n",
       "    <tr>\n",
       "      <th>4</th>\n",
       "      <td>0</td>\n",
       "      <td>NaN</td>\n",
       "      <td>-0.015851</td>\n",
       "      <td>0.076689</td>\n",
       "      <td>1</td>\n",
       "    </tr>\n",
       "    <tr>\n",
       "      <th>5</th>\n",
       "      <td>0</td>\n",
       "      <td>0.798000</td>\n",
       "      <td>-0.023776</td>\n",
       "      <td>0.080064</td>\n",
       "      <td>1</td>\n",
       "    </tr>\n",
       "    <tr>\n",
       "      <th>6</th>\n",
       "      <td>0</td>\n",
       "      <td>0.795484</td>\n",
       "      <td>-0.031727</td>\n",
       "      <td>0.077065</td>\n",
       "      <td>1</td>\n",
       "    </tr>\n",
       "    <tr>\n",
       "      <th>7</th>\n",
       "      <td>0</td>\n",
       "      <td>0.793049</td>\n",
       "      <td>-0.039704</td>\n",
       "      <td>0.077875</td>\n",
       "      <td>1</td>\n",
       "    </tr>\n",
       "    <tr>\n",
       "      <th>8</th>\n",
       "      <td>0</td>\n",
       "      <td>0.790697</td>\n",
       "      <td>-0.047705</td>\n",
       "      <td>0.076800</td>\n",
       "      <td>1</td>\n",
       "    </tr>\n",
       "    <tr>\n",
       "      <th>9</th>\n",
       "      <td>0</td>\n",
       "      <td>0.788426</td>\n",
       "      <td>-0.055730</td>\n",
       "      <td>0.079076</td>\n",
       "      <td>1</td>\n",
       "    </tr>\n",
       "  </tbody>\n",
       "</table>\n",
       "</div>"
      ],
      "text/plain": [
       "   patient_id  measurement_x  measurement_y  measurement_z  label\n",
       "0           0            NaN       0.015569       0.068855      1\n",
       "1           0            NaN       0.007757       0.073745      1\n",
       "2           0            NaN      -0.000084       0.073402      1\n",
       "3           0            NaN      -0.007953       0.075000      1\n",
       "4           0            NaN      -0.015851       0.076689      1\n",
       "5           0       0.798000      -0.023776       0.080064      1\n",
       "6           0       0.795484      -0.031727       0.077065      1\n",
       "7           0       0.793049      -0.039704       0.077875      1\n",
       "8           0       0.790697      -0.047705       0.076800      1\n",
       "9           0       0.788426      -0.055730       0.079076      1"
      ]
     },
     "execution_count": 578,
     "metadata": {},
     "output_type": "execute_result"
    }
   ],
   "source": [
    "df = pd.read_csv(\"~/clew/train_set.csv\").drop(columns=['_temporary_index_column','timestamp'])\n",
    "df.head(10)"
   ]
  },
  {
   "cell_type": "markdown",
   "id": "728499b4",
   "metadata": {},
   "source": [
    "# Define max sequence length"
   ]
  },
  {
   "cell_type": "code",
   "execution_count": 579,
   "id": "c8cdfb7e",
   "metadata": {},
   "outputs": [
    {
     "name": "stdout",
     "output_type": "stream",
     "text": [
      "Found 97 different sequence sizes in training set\n"
     ]
    },
    {
     "data": {
      "image/png": "[encoded data removed]",
      "text/plain": [
       "<Figure size 432x288 with 1 Axes>"
      ]
     },
     "metadata": {
      "needs_background": "light"
     },
     "output_type": "display_data"
    }
   ],
   "source": [
    "seq_sizes = df.groupby('patient_id').count().label\n",
    "print(f'Found {len(seq_sizes.unique())} different sequence sizes in training set')\n",
    "\n",
    "fit, ax = plt.subplots(1,1)\n",
    "sns.histplot(seq_sizes, ax=ax)\n",
    "ax.set_title(\"Sequence size ditribution\")\n",
    "ax.set_xlabel('sequence size')\n",
    "plt.show()"
   ]
  },
  {
   "cell_type": "code",
   "execution_count": 580,
   "id": "35ab1c4d",
   "metadata": {},
   "outputs": [
    {
     "name": "stdout",
     "output_type": "stream",
     "text": [
      "Dropping 778 patients that have sequence length larger than 60 samples from the train set \n"
     ]
    }
   ],
   "source": [
    "max_seq_size = 60\n",
    "dropped_patients = len(seq_sizes[seq_sizes > max_seq_size])\n",
    "print(f'Dropping {dropped_patients} patients that have sequence length larger than {max_seq_size} samples from the train set ')"
   ]
  },
  {
   "cell_type": "markdown",
   "id": "d7805095",
   "metadata": {},
   "source": [
    "# Rescaling the measurements to 0,1 using min-max scaler"
   ]
  },
  {
   "cell_type": "code",
   "execution_count": 581,
   "id": "7d713f74",
   "metadata": {},
   "outputs": [],
   "source": [
    "scaler = MinMaxScaler()\n",
    "measurements_label = ['measurement_x','measurement_y','measurement_z']\n",
    "df[measurements_label] = scaler.fit_transform(df[measurements_label])"
   ]
  },
  {
   "cell_type": "markdown",
   "id": "60691732",
   "metadata": {},
   "source": [
    "# Handling missing values"
   ]
  },
  {
   "cell_type": "code",
   "execution_count": 582,
   "id": "05e1946d",
   "metadata": {},
   "outputs": [
    {
     "data": {
      "text/html": [
       "<div>\n",
       "<style scoped>\n",
       "    .dataframe tbody tr th:only-of-type {\n",
       "        vertical-align: middle;\n",
       "    }\n",
       "\n",
       "    .dataframe tbody tr th {\n",
       "        vertical-align: top;\n",
       "    }\n",
       "\n",
       "    .dataframe thead th {\n",
       "        text-align: right;\n",
       "    }\n",
       "</style>\n",
       "<table border=\"1\" class=\"dataframe\">\n",
       "  <thead>\n",
       "    <tr style=\"text-align: right;\">\n",
       "      <th></th>\n",
       "      <th>patient_id</th>\n",
       "      <th>measurement_x</th>\n",
       "      <th>measurement_y</th>\n",
       "      <th>measurement_z</th>\n",
       "      <th>label</th>\n",
       "    </tr>\n",
       "  </thead>\n",
       "  <tbody>\n",
       "    <tr>\n",
       "      <th>0</th>\n",
       "      <td>0</td>\n",
       "      <td>-1.000000</td>\n",
       "      <td>0.415782</td>\n",
       "      <td>0.151501</td>\n",
       "      <td>1</td>\n",
       "    </tr>\n",
       "    <tr>\n",
       "      <th>1</th>\n",
       "      <td>0</td>\n",
       "      <td>-1.000000</td>\n",
       "      <td>0.412720</td>\n",
       "      <td>0.161620</td>\n",
       "      <td>1</td>\n",
       "    </tr>\n",
       "    <tr>\n",
       "      <th>2</th>\n",
       "      <td>0</td>\n",
       "      <td>-1.000000</td>\n",
       "      <td>0.409647</td>\n",
       "      <td>0.160912</td>\n",
       "      <td>1</td>\n",
       "    </tr>\n",
       "    <tr>\n",
       "      <th>3</th>\n",
       "      <td>0</td>\n",
       "      <td>-1.000000</td>\n",
       "      <td>0.406562</td>\n",
       "      <td>0.164218</td>\n",
       "      <td>1</td>\n",
       "    </tr>\n",
       "    <tr>\n",
       "      <th>4</th>\n",
       "      <td>0</td>\n",
       "      <td>-1.000000</td>\n",
       "      <td>0.403466</td>\n",
       "      <td>0.167713</td>\n",
       "      <td>1</td>\n",
       "    </tr>\n",
       "    <tr>\n",
       "      <th>5</th>\n",
       "      <td>0</td>\n",
       "      <td>0.561678</td>\n",
       "      <td>0.400360</td>\n",
       "      <td>0.174698</td>\n",
       "      <td>1</td>\n",
       "    </tr>\n",
       "    <tr>\n",
       "      <th>6</th>\n",
       "      <td>0</td>\n",
       "      <td>0.560682</td>\n",
       "      <td>0.397244</td>\n",
       "      <td>0.168492</td>\n",
       "      <td>1</td>\n",
       "    </tr>\n",
       "    <tr>\n",
       "      <th>7</th>\n",
       "      <td>0</td>\n",
       "      <td>0.559718</td>\n",
       "      <td>0.394117</td>\n",
       "      <td>0.170168</td>\n",
       "      <td>1</td>\n",
       "    </tr>\n",
       "    <tr>\n",
       "      <th>8</th>\n",
       "      <td>0</td>\n",
       "      <td>0.558787</td>\n",
       "      <td>0.390981</td>\n",
       "      <td>0.167943</td>\n",
       "      <td>1</td>\n",
       "    </tr>\n",
       "    <tr>\n",
       "      <th>9</th>\n",
       "      <td>0</td>\n",
       "      <td>0.557889</td>\n",
       "      <td>0.387835</td>\n",
       "      <td>0.172653</td>\n",
       "      <td>1</td>\n",
       "    </tr>\n",
       "  </tbody>\n",
       "</table>\n",
       "</div>"
      ],
      "text/plain": [
       "   patient_id  measurement_x  measurement_y  measurement_z  label\n",
       "0           0      -1.000000       0.415782       0.151501      1\n",
       "1           0      -1.000000       0.412720       0.161620      1\n",
       "2           0      -1.000000       0.409647       0.160912      1\n",
       "3           0      -1.000000       0.406562       0.164218      1\n",
       "4           0      -1.000000       0.403466       0.167713      1\n",
       "5           0       0.561678       0.400360       0.174698      1\n",
       "6           0       0.560682       0.397244       0.168492      1\n",
       "7           0       0.559718       0.394117       0.170168      1\n",
       "8           0       0.558787       0.390981       0.167943      1\n",
       "9           0       0.557889       0.387835       0.172653      1"
      ]
     },
     "execution_count": 582,
     "metadata": {},
     "output_type": "execute_result"
    }
   ],
   "source": [
    "# handle missing values by replacing them with the value -1\n",
    "df.fillna(-1, inplace=True)\n",
    "\n",
    "df.head(10)"
   ]
  },
  {
   "cell_type": "code",
   "execution_count": 583,
   "id": "bd6b7dd1",
   "metadata": {},
   "outputs": [
    {
     "data": {
      "image/png": "[encoded data removed]",
      "text/plain": [
       "<Figure size 432x288 with 1 Axes>"
      ]
     },
     "metadata": {
      "needs_background": "light"
     },
     "output_type": "display_data"
    }
   ],
   "source": [
    "# rand_pat = df[df.patient_id == np.random.choice(df['patient_id'])]\n",
    "\n",
    "sns.lineplot(data=rand_pat.measurement_x)\n",
    "plt.title(f'measurement_x of patient {int(rand_pat.iloc[0].patient_id)}')\n",
    "plt.show()"
   ]
  },
  {
   "cell_type": "code",
   "execution_count": 584,
   "id": "599979d9",
   "metadata": {},
   "outputs": [
    {
     "data": {
      "image/png": "[encoded data removed]",
      "text/plain": [
       "<Figure size 432x288 with 1 Axes>"
      ]
     },
     "metadata": {
      "needs_background": "light"
     },
     "output_type": "display_data"
    }
   ],
   "source": [
    "sns.lineplot(data=rand_pat.measurement_y)\n",
    "plt.title(f'measurement_y of patient {rand_pat.iloc[0].patient_id}')\n",
    "plt.show()"
   ]
  },
  {
   "cell_type": "code",
   "execution_count": 585,
   "id": "c96fd7f7",
   "metadata": {
    "scrolled": true
   },
   "outputs": [
    {
     "data": {
      "image/png": "[encoded data removed]",
      "text/plain": [
       "<Figure size 432x288 with 1 Axes>"
      ]
     },
     "metadata": {
      "needs_background": "light"
     },
     "output_type": "display_data"
    }
   ],
   "source": [
    "sns.lineplot(data=rand_pat.measurement_z)\n",
    "plt.title(f'measurement_z of patient {rand_pat.iloc[0].patient_id}')\n",
    "plt.show()"
   ]
  },
  {
   "cell_type": "markdown",
   "id": "bfb071a3",
   "metadata": {},
   "source": [
    "# Feature engineering and zero padding to each measurement"
   ]
  },
  {
   "cell_type": "code",
   "execution_count": 612,
   "id": "95d997d8",
   "metadata": {
    "scrolled": true
   },
   "outputs": [
    {
     "name": "stdout",
     "output_type": "stream",
     "text": [
      "Example of a single record in new processed data:\n",
      "[[-1.          0.41578166  0.15150074  1.        ]\n",
      " [-1.          0.41271991  0.16162014  1.        ]\n",
      " [-1.          0.40964655  0.16091186  1.        ]\n",
      " [-1.          0.40656189  0.16421779  1.        ]\n",
      " [-1.          0.40346628  0.16771331  1.        ]\n",
      " [ 0.56167809  0.40036004  0.17469752  1.        ]\n",
      " [ 0.56068203  0.3972435   0.16849195  1.        ]\n",
      " [ 0.55971837  0.39411698  0.17016793  1.        ]\n",
      " [ 0.55878721  0.39098083  0.16794289  1.        ]\n",
      " [ 0.55788865  0.38783535  0.17265267  1.        ]\n",
      " [ 0.55702278  0.3846809   0.16793156  1.        ]\n",
      " [ 0.5561897   0.3815178   0.16706823  1.        ]\n",
      " [ 0.5553895   0.37834639  0.16816357  1.        ]\n",
      " [ 0.55462225  0.375167    0.15873504  1.        ]\n",
      " [ 0.55388805  0.37197997  0.15672289  1.        ]\n",
      " [ 0.55318696  0.36878564  0.15523757  1.        ]\n",
      " [ 0.55251906  0.36558433  0.14842509  1.        ]\n",
      " [ 0.55188443  0.3623764   0.14517633  1.        ]\n",
      " [ 0.55128313  0.35916218  0.14103806  1.        ]\n",
      " [ 0.55071521  0.35594201  0.13327385  1.        ]\n",
      " [ 0.55018076  0.35271622  0.1215048   1.        ]\n",
      " [ 0.54967981  0.34948517  0.12213055  1.        ]\n",
      " [ 0.54921242  0.34624919  0.11194128  1.        ]\n",
      " [ 0.54877864  0.34300862  0.10482727  1.        ]\n",
      " [ 0.54837852  0.33976381  0.0933806   1.        ]\n",
      " [ 0.5480121   0.3365151   0.09009618  1.        ]\n",
      " [ 0.54767942  0.33326283  0.07694929  1.        ]\n",
      " [ 0.54738051  0.33000734  0.06980791  1.        ]\n",
      " [ 0.54711541  0.32674899  0.06404217  1.        ]\n",
      " [ 0.54688414  0.3234881   0.04376375  1.        ]\n",
      " [ 0.          0.          0.          1.        ]\n",
      " [ 0.          0.          0.          1.        ]\n",
      " [ 0.          0.          0.          1.        ]\n",
      " [ 0.          0.          0.          1.        ]\n",
      " [ 0.          0.          0.          1.        ]\n",
      " [ 0.          0.          0.          1.        ]\n",
      " [ 0.          0.          0.          1.        ]\n",
      " [ 0.          0.          0.          1.        ]\n",
      " [ 0.          0.          0.          1.        ]\n",
      " [ 0.          0.          0.          1.        ]\n",
      " [ 0.          0.          0.          1.        ]\n",
      " [ 0.          0.          0.          1.        ]\n",
      " [ 0.          0.          0.          1.        ]\n",
      " [ 0.          0.          0.          1.        ]\n",
      " [ 0.          0.          0.          1.        ]\n",
      " [ 0.          0.          0.          1.        ]\n",
      " [ 0.          0.          0.          1.        ]\n",
      " [ 0.          0.          0.          1.        ]\n",
      " [ 0.          0.          0.          1.        ]\n",
      " [ 0.          0.          0.          1.        ]\n",
      " [ 0.          0.          0.          1.        ]\n",
      " [ 0.          0.          0.          1.        ]\n",
      " [ 0.          0.          0.          1.        ]\n",
      " [ 0.          0.          0.          1.        ]\n",
      " [ 0.          0.          0.          1.        ]\n",
      " [ 0.          0.          0.          1.        ]\n",
      " [ 0.          0.          0.          1.        ]\n",
      " [ 0.          0.          0.          1.        ]\n",
      " [ 0.          0.          0.          1.        ]\n",
      " [ 0.          0.          0.          1.        ]]\n"
     ]
    }
   ],
   "source": [
    "lst = []\n",
    "for pat in df.patient_id.unique():\n",
    "    temp_df = df[df.patient_id == pat].drop(columns='patient_id').copy()\n",
    "    label = temp_df['label'].iloc[0]\n",
    "    temp_df = np.asarray(temp_df).reshape((1,) + temp_df.shape)\n",
    "    n = temp_df.shape[1]\n",
    "    if n < max_seq_size:\n",
    "        completion = np.zeros(shape=(1,max_seq_size-n,4))\n",
    "        completion[:,:,3] = label\n",
    "        temp_df = np.concatenate([temp_df, completion], axis=1)\n",
    "    else:\n",
    "        temp_df = temp_df[:,:max_seq_size,:]\n",
    "    \n",
    "    lst.append(temp_df)\n",
    "    \n",
    "X = np.concatenate(lst, axis=0)\n",
    "\n",
    "print(\"Example of a single record in new processed data:\")\n",
    "print(X[0])"
   ]
  },
  {
   "cell_type": "markdown",
   "id": "2d81410a",
   "metadata": {},
   "source": [
    "# Train-Validation split"
   ]
  },
  {
   "cell_type": "code",
   "execution_count": 621,
   "id": "c7ace42e",
   "metadata": {},
   "outputs": [
    {
     "name": "stdout",
     "output_type": "stream",
     "text": [
      "train set size: (19279, 60, 4)\n",
      "test set size: (6427, 60, 4)\n"
     ]
    }
   ],
   "source": [
    "X_train, X_cv, y_train, y_cv = train_test_split(X, df.drop_duplicates(subset=['patient_id'])['label'], test_size=0.25, random_state=7)\n",
    "print('train set size:', X_train.shape)\n",
    "print('test set size:', X_cv.shape)"
   ]
  },
  {
   "cell_type": "markdown",
   "id": "4869da95",
   "metadata": {},
   "source": [
    "# Model Architecture - LSTM"
   ]
  },
  {
   "cell_type": "code",
   "execution_count": 636,
   "id": "61baa08e",
   "metadata": {},
   "outputs": [
    {
     "name": "stdout",
     "output_type": "stream",
     "text": [
      "Epoch 1/10\n",
      "302/302 [==============================] - 11s 33ms/step - loss: 0.0000e+00 - accuracy: 0.9047 - val_loss: 0.0000e+00 - val_accuracy: 0.9292\n",
      "Epoch 2/10\n",
      "302/302 [==============================] - 10s 32ms/step - loss: 0.0000e+00 - accuracy: 0.9267 - val_loss: 0.0000e+00 - val_accuracy: 0.9292\n",
      "Epoch 3/10\n",
      "302/302 [==============================] - 9s 31ms/step - loss: 0.0000e+00 - accuracy: 0.9252 - val_loss: 0.0000e+00 - val_accuracy: 0.9292\n",
      "Epoch 4/10\n",
      "302/302 [==============================] - 9s 30ms/step - loss: 0.0000e+00 - accuracy: 0.9250 - val_loss: 0.0000e+00 - val_accuracy: 0.9292\n",
      "Epoch 5/10\n",
      "302/302 [==============================] - 10s 32ms/step - loss: 0.0000e+00 - accuracy: 0.9248 - val_loss: 0.0000e+00 - val_accuracy: 0.9292\n",
      "Epoch 6/10\n",
      "302/302 [==============================] - 10s 34ms/step - loss: 0.0000e+00 - accuracy: 0.9271 - val_loss: 0.0000e+00 - val_accuracy: 0.9292\n",
      "Epoch 7/10\n",
      "302/302 [==============================] - 12s 38ms/step - loss: 0.0000e+00 - accuracy: 0.9261 - val_loss: 0.0000e+00 - val_accuracy: 0.9292\n",
      "Epoch 8/10\n",
      "302/302 [==============================] - 13s 42ms/step - loss: 0.0000e+00 - accuracy: 0.9279 - val_loss: 0.0000e+00 - val_accuracy: 0.9292\n",
      "Epoch 9/10\n",
      "302/302 [==============================] - 12s 41ms/step - loss: 0.0000e+00 - accuracy: 0.9232 - val_loss: 0.0000e+00 - val_accuracy: 0.9292\n",
      "Epoch 10/10\n",
      "302/302 [==============================] - 12s 41ms/step - loss: 0.0000e+00 - accuracy: 0.9243 - val_loss: 0.0000e+00 - val_accuracy: 0.9292\n",
      "Model: \"sequential_4\"\n",
      "_________________________________________________________________\n",
      "Layer (type)                 Output Shape              Param #   \n",
      "=================================================================\n",
      "lstm_4 (LSTM)                (None, 60)                15600     \n",
      "_________________________________________________________________\n",
      "dense_4 (Dense)              (None, 1)                 61        \n",
      "=================================================================\n",
      "Total params: 15,661\n",
      "Trainable params: 15,661\n",
      "Non-trainable params: 0\n",
      "_________________________________________________________________\n",
      "None\n"
     ]
    }
   ],
   "source": [
    "model = Sequential()\n",
    "model.add(LSTM(max_seq_size))\n",
    "model.add(Dense(1, activation='sigmoid'))\n",
    "model.compile(loss='categorical_crossentropy', optimizer='adam', metrics=['accuracy'])\n",
    "model.fit(X_train, y_train, validation_data=(X_cv, y_cv), epochs=10, batch_size=64)\n",
    "print(model.summary())"
   ]
  },
  {
   "cell_type": "markdown",
   "id": "8a5b414f",
   "metadata": {},
   "source": [
    "# Evaluation of the model"
   ]
  },
  {
   "cell_type": "code",
   "execution_count": 638,
   "id": "f5694bfd",
   "metadata": {},
   "outputs": [
    {
     "name": "stdout",
     "output_type": "stream",
     "text": [
      "Accuracy: 92.92%\n"
     ]
    }
   ],
   "source": [
    "scores = model.evaluate(X_cv, y_cv, verbose=0)\n",
    "print(\"Accuracy: %.2f%%\" % (scores[1]*100))"
   ]
  },
  {
   "cell_type": "code",
   "execution_count": 679,
   "id": "e40d814b",
   "metadata": {},
   "outputs": [
    {
     "name": "stderr",
     "output_type": "stream",
     "text": [
      "/home/gil/.local/lib/python3.8/site-packages/ipykernel/ipkernel.py:283: DeprecationWarning: `should_run_async` will not call `transform_cell` automatically in the future. Please pass the result to `transformed_cell` argument and any exception that happen during thetransform in `preprocessing_exc_tuple` in IPython 7.17 and above.\n",
      "  and should_run_async(code)\n",
      "/home/gil/.local/lib/python3.8/site-packages/tensorflow/python/keras/engine/sequential.py:450: UserWarning: `model.predict_classes()` is deprecated and will be removed after 2021-01-01. Please use instead:* `np.argmax(model.predict(x), axis=-1)`,   if your model does multi-class classification   (e.g. if it uses a `softmax` last-layer activation).* `(model.predict(x) > 0.5).astype(\"int32\")`,   if your model does binary classification   (e.g. if it uses a `sigmoid` last-layer activation).\n",
      "  warnings.warn('`model.predict_classes()` is deprecated and '\n"
     ]
    },
    {
     "data": {
      "text/plain": [
       "{'0': {'precision': 1.0, 'recall': 1.0, 'f1-score': 1.0, 'support': 4412},\n",
       " '1': {'precision': 0.7741935483870968,\n",
       "  'recall': 1.0,\n",
       "  'f1-score': 0.8727272727272727,\n",
       "  'support': 1560},\n",
       " '2': {'precision': 1.0, 'recall': 0.0, 'f1-score': 0.0, 'support': 455},\n",
       " 'accuracy': 0.9292049167574296,\n",
       " 'macro avg': {'precision': 0.924731182795699,\n",
       "  'recall': 0.6666666666666666,\n",
       "  'f1-score': 0.6242424242424242,\n",
       "  'support': 6427},\n",
       " 'weighted avg': {'precision': 0.9451909032960746,\n",
       "  'recall': 0.9292049167574296,\n",
       "  'f1-score': 0.8983125167970353,\n",
       "  'support': 6427}}"
      ]
     },
     "metadata": {},
     "output_type": "display_data"
    }
   ],
   "source": [
    "import warnings\n",
    "warnings.filterwarnings('always')\n",
    "\n",
    "y_pred = model.predict_classes(X_cv).reshape(-1)\n",
    "display(classification_report(y_true=y_cv.values, y_pred=y_pred, labels=[0,1,2], output_dict=True, zero_division=1))"
   ]
  }
 ],
 "metadata": {
  "kernelspec": {
   "display_name": "Python 3",
   "language": "python",
   "name": "python3"
  },
  "language_info": {
   "codemirror_mode": {
    "name": "ipython",
    "version": 3
   },
   "file_extension": ".py",
   "mimetype": "text/x-python",
   "name": "python",
   "nbconvert_exporter": "python",
   "pygments_lexer": "ipython3",
   "version": "3.8.5"
  }
 },
 "nbformat": 4,
 "nbformat_minor": 5
}
